{
 "cells": [
  {
   "cell_type": "markdown",
   "id": "98b3dccb",
   "metadata": {},
   "source": [
    "# Regresión lineal\n",
    "***\n",
    "\n",
    "* La predicción que genere el modelo de regresión lineal es **interpretable**, ya que los pesos del modelo indican cómo contribuye cada variable en la predicción.\n",
    "* Al aumentar el valor de una variable continua en una unidad cambia la salida según el peso asociado a esa variable\n",
    "* En variables categóricas → se transforman en múltiples variables (*One Hot Encoding*) → variables binarias → la variable que esté “activada” (valor 1) es la que contribuye (con el peso) a la predicción) \n",
    "* Intercepto: representa el valor medio de la predicción del modelo cuando todas las variables independientes tienen valor  es cero (poco frecuente en problemas reales)\n",
    "\n",
    "Más sobre regresión lineal [acá](https://github.com/rpezoa/ML_Aplicado/blob/master/clases/01_Introduccion_Regresion_Lineal.ipynb)\n"
   ]
  },
  {
   "cell_type": "markdown",
   "id": "367fd54c",
   "metadata": {},
   "source": [
    "## Bibliotecas"
   ]
  },
  {
   "cell_type": "code",
   "execution_count": 1,
   "id": "4019cae9",
   "metadata": {},
   "outputs": [],
   "source": [
    "import numpy as np\n",
    "import pandas as pd\n",
    "import seaborn as sns\n",
    "from matplotlib import pyplot as plt\n",
    "from sklearn.model_selection import train_test_split\n",
    "from sklearn.linear_model import LinearRegression\n",
    "from sklearn.metrics import mean_squared_error, r2_score\n",
    "import statsmodels.api as sm"
   ]
  },
  {
   "cell_type": "markdown",
   "id": "b48ba39c",
   "metadata": {},
   "source": [
    "## Ejemplo 1\n",
    "(didáctico)\n",
    "***\n",
    "\n",
    "## Datos"
   ]
  },
  {
   "cell_type": "code",
   "execution_count": null,
   "id": "8cf17df2",
   "metadata": {},
   "outputs": [],
   "source": [
    "# Blood Pressure data\n",
    "x = [22, 41, 52, 23, 41, 54, 24, 46, 56, 27, 47, 57, 28, 48, 58,  9, \n",
    "     49, 59, 30, 49, 63, 32, 50, 67, 33, 51, 71, 35, 51, 77, 40, 51, 81]\n",
    "y = [131, 139, 128, 128, 171, 105, 116, 137, 145, 106, 111, 141, 114, \n",
    "     115, 153, 123, 133, 157, 117, 128, 155, 122, 183,\n",
    "     176,  99, 130, 172, 121, 133, 178, 147, 144, 217] \n",
    "x = np.asarray(x, np.float32) \n",
    "y = np.asarray(y, np.float32) "
   ]
  },
  {
   "cell_type": "markdown",
   "id": "ef18c797",
   "metadata": {},
   "source": [
    "## Generación del modelo lineal y predicción\n",
    "***\n",
    "Se usa el método LinearRegression de sklearn"
   ]
  },
  {
   "cell_type": "code",
   "execution_count": null,
   "id": "f0af88bf",
   "metadata": {},
   "outputs": [],
   "source": [
    "model = LinearRegression()\n",
    "res = model.fit(x.reshape((len(x),1)), y)\n",
    "predictions = model.predict(x.reshape((len(x),1)))\n"
   ]
  },
  {
   "cell_type": "markdown",
   "id": "74d4c4c2",
   "metadata": {},
   "source": [
    "## Gráfico"
   ]
  },
  {
   "cell_type": "code",
   "execution_count": null,
   "id": "8bb6764b",
   "metadata": {},
   "outputs": [],
   "source": [
    "plt.figure()\n",
    "sns.set_style('darkgrid')\n",
    "sns.set(font_scale=1.2)\n",
    "sns.lineplot(x=x, y = predictions, label=\"$y=$ \"+ str(round(res.coef_[0],2)) \n",
    "             +\" $x$ + \"+str(round(res.intercept_,2)))\n",
    "plt.legend()\n",
    "plt.xlabel(\"$x$ (Edad)\")\n",
    "plt.ylabel(\"$y$ (Presión arterial) \")\n",
    "sns.scatterplot( x=x, y=y)\n",
    "plt.show()\n",
    "\n",
    "print(\"intercepto = \",res.intercept_,\"pendiente = \", res.coef_[0],)"
   ]
  },
  {
   "cell_type": "markdown",
   "id": "7b871cc3",
   "metadata": {},
   "source": [
    "En este modelo simple de regressión líneal: $y = \\beta_1 x + \\beta_0$ es fácil interpretar como la variable númerica $x$ correspondiente a la edad, afecta en la salida del modelo.\n",
    "\n",
    "El peso $\\beta_1 = 1.11 $ que pondera el valor de $x$\n",
    "\n",
    "$y = 1.11 x + 87.67$ \n",
    "\n",
    "En este caso el peso $\\beta_1 = 1.11 $ indica la contribución de la variable $x$ (edad del paciente) en la predicción de la presión arterial."
   ]
  },
  {
   "cell_type": "markdown",
   "id": "f0442b04",
   "metadata": {},
   "source": [
    "## Ejemplo 2:\n",
    "***\n",
    "\n",
    "* **Usando statsmodel, predecir el ancho del pétalo a partir de el largo del pétalo para la espcecie \"Iris-versicolor\"**"
   ]
  },
  {
   "cell_type": "markdown",
   "id": "2c460de9",
   "metadata": {},
   "source": [
    "## Biblioteca"
   ]
  },
  {
   "cell_type": "code",
   "execution_count": null,
   "id": "829f1e67",
   "metadata": {},
   "outputs": [],
   "source": [
    "import statsmodels.formula.api as smf"
   ]
  },
  {
   "cell_type": "markdown",
   "id": "68a2bf49",
   "metadata": {},
   "source": [
    "## Descarga de datos y pre-procesamiento\n",
    "***\n",
    "* Iris Dataset\n"
   ]
  },
  {
   "cell_type": "code",
   "execution_count": null,
   "id": "ce2e8f70",
   "metadata": {},
   "outputs": [],
   "source": [
    "csv_url = 'https://archive.ics.uci.edu/ml/machine-learning-databases/iris/iris.data'\n",
    "iris = pd.read_csv(csv_url, header = None)"
   ]
  },
  {
   "cell_type": "code",
   "execution_count": null,
   "id": "a9a19e04",
   "metadata": {},
   "outputs": [],
   "source": [
    "col_names = ['Sepal_Length','Sepal_Width','Petal_Length','Petal_Width','Species']\n",
    "iris =  pd.read_csv(csv_url, names = col_names)"
   ]
  },
  {
   "cell_type": "code",
   "execution_count": null,
   "id": "259065d6",
   "metadata": {},
   "outputs": [],
   "source": [
    "iris"
   ]
  },
  {
   "cell_type": "code",
   "execution_count": null,
   "id": "324fb993",
   "metadata": {},
   "outputs": [],
   "source": [
    "iris['Species'].value_counts()"
   ]
  },
  {
   "cell_type": "markdown",
   "id": "0af8c44c",
   "metadata": {},
   "source": [
    "Seleccionamos solo la clase \"Iris-versicolor\""
   ]
  },
  {
   "cell_type": "code",
   "execution_count": null,
   "id": "36be37d4",
   "metadata": {},
   "outputs": [],
   "source": [
    "versicolor = iris[iris[\"Species\"] == \"Iris-versicolor\"]\n",
    "\n",
    "versicolor.head()"
   ]
  },
  {
   "cell_type": "markdown",
   "id": "70fa9d13",
   "metadata": {},
   "source": [
    "### Ejercicio 1"
   ]
  },
  {
   "cell_type": "markdown",
   "id": "4d2e2c9b",
   "metadata": {},
   "source": [
    "<div class=\"alert-success\">\n",
    "\n",
    "<ol>\n",
    "    <li>Generar un scatter plot de la variable independiente versus la variable dependiente</li>\n",
    "    <li>Usar el método \"ordinary least square (oml) de stastmodel para generar la regresión lineal\"</li>\n",
    "    <li>Mostrar parámetros del modelo y estadísticos (tabla resumen) </li>\n",
    "    <li>Agregar al scatter plot la curva de ajuste lineal </li>\n",
    "</ol>\n",
    "</div>"
   ]
  },
  {
   "cell_type": "markdown",
   "id": "3203e43e",
   "metadata": {},
   "source": [
    "<div class=\"alert-success\">\n",
    "1. Generar un scatter plot de la variable independiente versus la variable dependiente.\n",
    "</div>"
   ]
  },
  {
   "cell_type": "code",
   "execution_count": null,
   "id": "33bbd575",
   "metadata": {},
   "outputs": [],
   "source": []
  },
  {
   "cell_type": "markdown",
   "id": "ad5f6e96",
   "metadata": {},
   "source": [
    "<div class=\"alert-success\">\n",
    "2. Usar el metodo \"ordinary least square (oml) de stastmodel para generar la regresión lineal\"\n",
    "</div>"
   ]
  },
  {
   "cell_type": "code",
   "execution_count": null,
   "id": "f529dfa2",
   "metadata": {},
   "outputs": [],
   "source": []
  },
  {
   "cell_type": "markdown",
   "id": "80c3b3f6",
   "metadata": {},
   "source": [
    "<div class=\"alert-success\">\n",
    "3. Mostrar parámetros del modelo y estadísticos (tabla resumen) \n",
    "</div>"
   ]
  },
  {
   "cell_type": "code",
   "execution_count": null,
   "id": "609ed4a4",
   "metadata": {},
   "outputs": [],
   "source": []
  },
  {
   "cell_type": "code",
   "execution_count": null,
   "id": "b2f35a6a",
   "metadata": {},
   "outputs": [],
   "source": []
  },
  {
   "cell_type": "markdown",
   "id": "6faa3d12",
   "metadata": {},
   "source": [
    "<div class=\"alert-success\">\n",
    "4. Agregar al scatter plot la curva de ajuste lineal\n",
    "</div>"
   ]
  },
  {
   "cell_type": "code",
   "execution_count": null,
   "id": "91b2aa6b",
   "metadata": {},
   "outputs": [],
   "source": []
  },
  {
   "cell_type": "code",
   "execution_count": null,
   "id": "3bb8826d",
   "metadata": {},
   "outputs": [],
   "source": []
  },
  {
   "cell_type": "code",
   "execution_count": null,
   "id": "49719f41",
   "metadata": {},
   "outputs": [],
   "source": []
  },
  {
   "cell_type": "code",
   "execution_count": null,
   "id": "c6cd60bb",
   "metadata": {},
   "outputs": [],
   "source": []
  },
  {
   "cell_type": "code",
   "execution_count": null,
   "id": "3157c5f6",
   "metadata": {},
   "outputs": [],
   "source": []
  },
  {
   "cell_type": "markdown",
   "id": "15ee3f2d",
   "metadata": {},
   "source": [
    "### Ejercicio 2\n"
   ]
  },
  {
   "cell_type": "markdown",
   "id": "53fe3e4c",
   "metadata": {},
   "source": [
    "<div class=\"alert-success\">\n",
    "    Ahora considerar todas las variables independientes disponibles para generar la regresión lineal\n",
    "    <ol>\n",
    "        <li>Usar el método \"ordinary least square (oml) de stastmodel para generar la regresión lineal\"</li>\n",
    "        <li>Mostrar parámetros del modelo y estadísticos (tabla resumen) </li>\n",
    "        <li>Generar gráficos usando plot_regress_exog </li>\n",
    "</ol>\n",
    "</div>"
   ]
  },
  {
   "cell_type": "markdown",
   "id": "3df6808e",
   "metadata": {},
   "source": [
    "<div class=\"alert-success\">\n",
    "1. Usar el método \"ordinary least square (oml) de stastmodel para generar la regresión lineal\n",
    "</div>    "
   ]
  },
  {
   "cell_type": "code",
   "execution_count": null,
   "id": "67908c09",
   "metadata": {},
   "outputs": [],
   "source": []
  },
  {
   "cell_type": "markdown",
   "id": "ef9df5c2",
   "metadata": {},
   "source": [
    "<div class=\"alert-success\">\n",
    "2. Mostrar parámetros del modelo y estadísticos (tabla resumen) \n",
    "</div>"
   ]
  },
  {
   "cell_type": "code",
   "execution_count": null,
   "id": "b410efec",
   "metadata": {},
   "outputs": [],
   "source": []
  },
  {
   "cell_type": "code",
   "execution_count": null,
   "id": "3f7ce089",
   "metadata": {},
   "outputs": [],
   "source": []
  },
  {
   "cell_type": "markdown",
   "id": "76708db4",
   "metadata": {},
   "source": [
    "<div class=\"alert-success\">\n",
    "3. Generar gráficos usando plot_regress_exog\n",
    "</div>"
   ]
  },
  {
   "cell_type": "code",
   "execution_count": null,
   "id": "63415002",
   "metadata": {},
   "outputs": [],
   "source": []
  }
 ],
 "metadata": {
  "kernelspec": {
   "display_name": "Python 3 (ipykernel)",
   "language": "python",
   "name": "python3"
  },
  "language_info": {
   "codemirror_mode": {
    "name": "ipython",
    "version": 3
   },
   "file_extension": ".py",
   "mimetype": "text/x-python",
   "name": "python",
   "nbconvert_exporter": "python",
   "pygments_lexer": "ipython3",
   "version": "3.9.12"
  }
 },
 "nbformat": 4,
 "nbformat_minor": 5
}
