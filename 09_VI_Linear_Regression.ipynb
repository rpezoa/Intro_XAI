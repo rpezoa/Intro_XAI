{
  "cells": [
    {
      "cell_type": "markdown",
      "metadata": {
        "id": "cH_fnQMh9d01"
      },
      "source": [
        "<center>\n",
        "    <h1> Regresión Lineal usando Inferencia Variacional </h2>\n",
        "</center>"
      ]
    },
    {
      "cell_type": "markdown",
      "metadata": {
        "id": "SgT3L8vn9d03"
      },
      "source": [
        "## Contenidos\n",
        "\n",
        "* [Introducción](#Introducción)\n",
        "* [Bibliotecas](#Bibliotecas)\n",
        "* [Datos](#Datos)\n",
        "* [Inferencia Variacional](#Inferencia-Variacional)\n",
        "* [Bayesian Neural Network (BNN)](#Bayesian-Neural-Network-(BNN))\n",
        "* [Comparación de resultados](#Comparación-de-resultados)"
      ]
    },
    {
      "cell_type": "markdown",
      "metadata": {
        "id": "15VO0p_69d04"
      },
      "source": [
        "## Introducción\n",
        "\n",
        "En el siguiente notebook, se ejemplifica el entrenamiento de un modelo de regresión lienal usando inferencia variacional.\n",
        "\n",
        "Referencia: Probabilistic Deep Learning. With Python, Keras and TensorFlow Probability. Oliver Dürr, Beate Sick with Elvise Murina. Manning. 2020.\n"
      ]
    },
    {
      "cell_type": "markdown",
      "metadata": {
        "id": "d0rh8TGUJaCb"
      },
      "source": [
        "## Bibliotecas\n",
        "\n",
        "La biblioteca ``tensorflow_probability`` requiere versiones específicas de TensorFlow y Keras para funcionar correctamente. Se recomienda instalar las siguientes versiones según las notas de lanzamiento oficiales:\n",
        "\n",
        "1. TensorFlow 2.15.0\n",
        "2. Keras 2.15.0\n",
        "3. TensorFlow Probability 0.23.0"
      ]
    },
    {
      "cell_type": "code",
      "execution_count": 26,
      "metadata": {
        "id": "YZco2mZO9d04"
      },
      "outputs": [],
      "source": [
        "%matplotlib inline"
      ]
    },
    {
      "cell_type": "code",
      "execution_count": 27,
      "metadata": {
        "id": "OyLNPRj6WqkX"
      },
      "outputs": [],
      "source": [
        "import numpy as np\n",
        "import tensorflow as tf\n",
        "import matplotlib.pyplot as plt\n",
        "import tensorflow_probability as tfp"
      ]
    },
    {
      "cell_type": "code",
      "execution_count": 29,
      "metadata": {
        "id": "JoGevKmlXvm9"
      },
      "outputs": [],
      "source": [
        "# Contiene clases y funciones para trabajar con distribuciones de probabilidad:\n",
        "tfd = tfp.distributions\n",
        "# Contiene biyecciones diferenciables (funciones invertibles) usadas para transformar distribuciones.\n",
        "tfb = tfp.bijectors"
      ]
    },
    {
      "cell_type": "markdown",
      "metadata": {
        "id": "qFu4q41rmvJ-"
      },
      "source": [
        "## Datos"
      ]
    },
    {
      "cell_type": "markdown",
      "metadata": {
        "id": "ahClNgUI9d05"
      },
      "source": [
        "Utilizaremos un conjunto de datos sintéticos a partir de la ecuación $y = 2x + 1 + \\epsilon$, donde $\\epsilon$ es un ruido gaussiano."
      ]
    },
    {
      "cell_type": "code",
      "execution_count": 17,
      "metadata": {
        "id": "N_ltb3UB9d05"
      },
      "outputs": [],
      "source": [
        "np.random.seed(2)\n",
        "\n",
        "n, sigma = 4, 1\n",
        "\n",
        "x = np.linspace(-2, 2, n).reshape((n, 1))\n",
        "y = 2 * x[:, 0] - 1 + np.random.normal(0, sigma, n)"
      ]
    },
    {
      "cell_type": "code",
      "execution_count": 18,
      "metadata": {
        "colab": {
          "base_uri": "https://localhost:8080/",
          "height": 450
        },
        "id": "8JrQI3CGYbGe",
        "outputId": "287bded9-ea76-4cc5-b13b-d12478711456"
      },
      "outputs": [
        {
          "output_type": "display_data",
          "data": {
            "text/plain": [
              "<Figure size 640x480 with 1 Axes>"
            ],
            "image/png": "[encoded data removed]"
          },
          "metadata": {}
        }
      ],
      "source": [
        "plt.scatter(x, y, c=\"red\")\n",
        "plt.show()"
      ]
    },
    {
      "cell_type": "markdown",
      "source": [
        "\n",
        "Modelar $y \\sim \\mathcal{N}(ax+b, \\sigma)$, pero tratando a $a$ y $𝑏$ como distribuciones gaussianas:\n",
        "\n",
        "\n",
        "* $ax+b$ es la media de la distribución de salida $y$.\n",
        "*   $a \\sim \\mathcal{N}(\\mu_a, \\sigma_a^2)$\n",
        "*   $b \\sim \\mathcal{N}(\\mu_b, \\sigma_b^2)$\n",
        "\n",
        "Y aprender $\\lambda = (\\mu_a, \\sigma_a^2, \\mu_b, \\sigma_b^2)$ usando VI.\n",
        "\n"
      ],
      "metadata": {
        "id": "-tUOU8mq9_Zf"
      }
    },
    {
      "cell_type": "markdown",
      "metadata": {
        "id": "LggoDR53Jl_V"
      },
      "source": [
        "## Modelar la función de pérdida con Inferencia Variacional\n",
        "\n",
        "* La idea principal es aprender una distribución para los parámetros del modelo. En el caso de la regresión lineal, se busca aprender una distribución para los parámetros $a$ y $b$ de la regresión.\n",
        "\n",
        "* Para cada parámetro $a$ y $b$, se supone una **distribución Normal** con parámetros $\\mu$ y $\\sigma$. Por lo tanto, se tiene que aprender $\\mu_a$, $\\sigma_a$, $\\mu_b$ y $\\sigma_b$.\n",
        "\n",
        "* Como vimos en clases, la **función de pérdida** para inferencia variacional es:\n",
        "\n",
        "$$\n",
        "\\text{loss}_{\\text{VI}} = \\text{loss}_{\\text{KL}} + \\text{loss}_{\\text{NLL}}  = \\text{KL}[q_{\\lambda}(\\theta) || p(\\theta)] - E_{\\theta \\sim q_{\\lambda}} [\\log{p(D|\\theta)}]\n",
        "$$\n",
        "\n",
        "Al respecto, podemos notar que:\n",
        "\n",
        "*   $\\text{loss}_{\\text{KL}}$ tiene solución analítica:\n",
        "$$\\text{loss}_{\\text{KL}}=  \\text{KL}[q_{\\lambda}(\\theta)||p(\\theta)]  = \\text{KL}[N(\\mu,\\sigma)||N(0,1)] = -\\frac{1}{2}(1 + \\log{(\\sigma^2)} - \\mu^2 -\\sigma^2 )$$\n",
        "\n",
        "*   $\\text{loss}_{\\text{NLL}}$ requiere calcular $E_{\\theta \\sim q_{\\lambda}} [\\log{p(D|\\theta)}]$, lo que no es tan simple.\n",
        "\n",
        "*  Se puede aproximar el valor esperado con el promedio empírico promediando sobre $-\\log{p(D|\\theta)}]$ para diferentes $\\theta$, que son muestreados de $\\theta \\sim q_{\\lambda}$. ¿Cuántos muestreos se necesitan? **Solo uno**.\n",
        "\n"
      ]
    },
    {
      "cell_type": "markdown",
      "source": [
        "* ¿Por qué solo uno? Queremos minimizar una función de pérdida que depende de muestras de esa distribución.\n",
        "\n",
        "* El término\n",
        "$$E_{\\theta \\sim q_{\\lambda}} [\\log{p(D|\\theta)}$$\n",
        " es la esperanza promedio  de la log-verosimilitud sobre todas las posibles configuraciones  de parámetros $\\theta = (a,b)$, que vienen de la distribución $q_\\lambda$ que se está aprendiendo.\n",
        "\n",
        "* ¿Cómo estimamos esa esperanza? Se usa **Monte Carlo**: promediamos evaluaciones de la función en diferentes muestras $\\theta^{(1)}, \\theta^{(2)}, ..., \\theta^{(K)}$, tomadas de  $q_\\lambda$.\n",
        "\n",
        "$$\n",
        "\\mathbb{E}_{\\theta \\sim q_{\\lambda}} \\left[\\log p(D \\mid \\theta)\\right] \\approx \\frac{1}{K} \\sum_{k=1}^{K} \\log p(D \\mid \\theta^{(k)})$$\n",
        "\n",
        "* En la práctica, para entrenar una red neuronal no necesitas muchas muestras $K$\n",
        " * Con que tomes una sola muestra $\\theta^{(1)} \\sim q_\\lambda$ , eso te da una estimación suficientemente buena del gradiente de la pérdida.\n",
        "\n",
        " * Es decir, haces una sola pasada con un solo $(a,b)$ para un minibatch de datos, y eso basta para actualizar $\\sigma$ con gradientes.\n",
        " * En otras palabras, se usa  una única muestra $\\theta^{(1)} \\sim q_\\lambda$ y se calcula  $\\log p(D | \\theta^{(1)} )$, que no es un buen estimador del promedio, pero sí da un estimador del gradiente que es ruidoso pero no sesgado.\n",
        " * Como se entrena con gradient descent, lo que nos interesa es:\n",
        "\n",
        " $$\\nabla_{\\lambda} \\, \\mathbb{E}_{\\theta \\sim q_{\\lambda}} \\left[ \\log p(D \\mid \\theta) \\right]$$\n",
        " * Y se puede demostrar (con el truco de reparametrización) que este gradiente se puede estimar usando una sola muestra por batch $→$ Aunque esto sea una estimación muy ruidosa, el ruido se cancela cuando haces muchas actualizaciones, y por eso el modelo converge.\n",
        " * Lo que hago una vez por batch, lo repito muchas veces a lo largo del entrenamiento, y eso equivale a tirar el dado muchas veces, pero distribuido en el tiempo, no dentro de cada batch."
      ],
      "metadata": {
        "id": "K9ov9UbmLDxV"
      }
    },
    {
      "cell_type": "markdown",
      "source": [
        "* Pero también aparece el problema, ya que no se puede derivar directamente a través de una operación de muestreo aleatorio.\n",
        "\n",
        "* Considerando $N(y_i;a\\cdot x_i + b, \\sigma)$ como la función de densidad de probabilidad de una distribución Normal, calculamos NLL:\n",
        "  \n",
        "$$\n",
        "E_{\\theta \\sim q_{\\lambda}} \\log{p(D|(a,b))}=\\sum_{i=1}^{n}\\log{(N(y_i;a \\cdot x_i + b, \\sigma))}\n",
        "$$\n",
        "\n",
        "* Como dijimos, para aproxima NLL, se muestrea un solo valor de $a$ y $b$.\n",
        "\n",
        "* Notar que la derivada de la pérdida con respecto al parámetro $\\mu_a$, implica cacular la derivada de la densidad $N(\\mu_a, \\sigma_a)$ con respecto a $\\mu_a$, pero $a$ es un valor muestreado de una Gaussiana, por lo que no se puede porque $a$ es un valor aleatorio y no sabemos en que punto tomar la derivada de una función de densidad Normal.\n",
        "\n",
        "* La soución es un **reparatmetrization trick**. En vez de muestrear $a\\sim N(\\mu_a, \\sigma_a)$ se calcula $a_{\\text{rep}} = \\mu_a + \\sigma_a \\cdot \\epsilon $ y se muestrea $\\epsilon N(0,1)$ y se puede hacer backpropagation con respecto a $\\sigma_a$ y $\\mu_a$\n",
        "\n",
        "* En otras palabras,\n",
        "  * Se toma una muestra de $\\varepsilon \\sim \\mathcal{N}(0,1)$,\n",
        "  * y se transforma con $\\mu_a$ y $\\sigma_a$ para obtener una muestra de $a \\sim \\mathcal{N}(\\mu_a, \\sigma_a^2)$,\n",
        "  * y esta transformación es diferenciable :)\n",
        "\n",
        "* Finalmente, se quiere minimizar la esperanza de la pérdida (como la log-verosimilitud negativa), y ahora podemos estimar esa esperanza con Monte Carlo (una muestra basta, como ya vimos), y calcular derivadas respecto a los parámetros de la distribución."
      ],
      "metadata": {
        "id": "w9WlI_URNkAp"
      }
    },
    {
      "cell_type": "code",
      "execution_count": 30,
      "metadata": {
        "id": "865582iQ9d06"
      },
      "outputs": [],
      "source": [
        "class Logger:\n",
        "    \"\"\"\n",
        "    Logger class for logging the weights, gradients, and losses at each step.\n",
        "    \"\"\"\n",
        "\n",
        "    def __init__(self, steps, num_weights = 4):\n",
        "        self.steps = steps\n",
        "        self.num_weights = num_weights\n",
        "        self.X = np.zeros((steps, 12))\n",
        "        self.header = 'epoch,w0,w1,w2,w3,wg0,wg1,wg2,wg3,loss,loss_kl,loss_mse'\n",
        "\n",
        "    def log(self, step, epoch, w, w_grad, loss, loss_kl, loss_mse):\n",
        "        n = self.num_weights\n",
        "        self.X[step,0] = epoch\n",
        "        self.X[step,1:(n+1)] = w.numpy()\n",
        "        self.X[step,(n+1):((2*n)+1)] = w_grad.numpy()\n",
        "        self.X[step,((2*n)+1)] = loss.numpy()\n",
        "        self.X[step,((2*n)+2)] = loss_kl.numpy()\n",
        "        self.X[step,((2*n)+3)] = loss_mse.numpy()"
      ]
    },
    {
      "cell_type": "code",
      "execution_count": 31,
      "metadata": {
        "colab": {
          "base_uri": "https://localhost:8080/"
        },
        "id": "8ynhI9t1XDK3",
        "outputId": "e8508896-34ae-47bc-b5da-fda3c624826f"
      },
      "outputs": [
        {
          "output_type": "stream",
          "name": "stdout",
          "text": [
            "Época 1: Pérdida = 60.468772888183594, Tasa de aprendizaje = 0.001\n",
            "mu_a = 1.0289522409439087, mu_b = 0.9950301647186279\n",
            "Época 2000: Pérdida = 12.024393081665039, Tasa de aprendizaje = 0.001\n",
            "mu_a = 2.0599944591522217, mu_b = -0.9706847071647644\n",
            "Época 4000: Pérdida = 10.89224910736084, Tasa de aprendizaje = 0.001\n",
            "mu_a = 2.0720646381378174, mu_b = -1.008079171180725\n",
            "Época 6000: Pérdida = 10.727089881896973, Tasa de aprendizaje = 0.001\n",
            "mu_a = 2.0853185653686523, mu_b = -1.0189764499664307\n",
            "Época 8000: Pérdida = 12.21993637084961, Tasa de aprendizaje = 0.001\n",
            "mu_a = 2.0496082305908203, mu_b = -0.9774420261383057\n",
            "Época 10000: Pérdida = 12.340986251831055, Tasa de aprendizaje = 0.001\n",
            "mu_a = 2.0510733127593994, mu_b = -1.020429015159607\n"
          ]
        }
      ],
      "source": [
        "# Configuración de parámetros\n",
        "epochs = 10000\n",
        "learning_rate = 0.001\n",
        "optimizer = tf.keras.optimizers.SGD(learning_rate)\n",
        "logger = Logger(epochs)\n",
        "\n",
        "# Vector de parámetros inicial: mu_a, sig_a, mu_b, sig_b\n",
        "w_0 = (1.0, 1.0, 1.0, 1.0)\n",
        "w = tf.Variable(w_0)\n",
        "\n",
        "# Distribución normal para el \"truco variacional\"\n",
        "normal_dist = tfp.distributions.Normal(loc=0.0, scale=1.0)\n",
        "\n",
        "# Bucle de entrenamiento\n",
        "for epoch in range(epochs):\n",
        "    with tf.GradientTape() as tape:\n",
        "        # Extracción y transformación de parámetros\n",
        "        mu_a = w[0]\n",
        "        sig_a = tf.math.softplus(w[1])  # Debe ser positivo, por eso se usa softplus\n",
        "        mu_b = w[2]\n",
        "        sig_b = tf.math.softplus(w[3])  # Debe ser positivo, por eso se usa softplus\n",
        "\n",
        "        # Solución analítica de la divergencia KL con priors Gaussianos\n",
        "        kl_divergence = -0.5 * (\n",
        "            1.0 + tf.math.log(sig_a**2) - sig_a**2 - mu_a**2 +\n",
        "            1.0 + tf.math.log(sig_b**2) - sig_b**2 - mu_b**2\n",
        "        )\n",
        "\n",
        "        # Truco de reparametrización para el muestreo\n",
        "        sample_a = mu_a + sig_a * normal_dist.sample()\n",
        "        sample_b = mu_b + sig_b * normal_dist.sample()\n",
        "\n",
        "        # Distribución normal para y con parámetros muestreados\n",
        "        y_distribution = tfp.distributions.Normal(loc=x * sample_a + sample_b, scale=sigma)\n",
        "        negative_log_likelihood = -tf.reduce_sum(y_distribution.log_prob(y.reshape(-1, 1)))\n",
        "\n",
        "        # Pérdida total\n",
        "        total_loss = negative_log_likelihood + kl_divergence\n",
        "\n",
        "    # Cálculo de gradientes y actualización de parámetros\n",
        "    gradients = tape.gradient(total_loss, w)\n",
        "    logger.log(epoch, epoch, w, gradients, total_loss, kl_divergence, negative_log_likelihood)\n",
        "    w.assign_sub(learning_rate * gradients)\n",
        "\n",
        "    # Registro del progreso cada 2000 épocas y al inicio\n",
        "    if (epoch + 1) % 2000 == 0 or epoch == 0:\n",
        "        print(f\"Época {epoch + 1}: Pérdida = {total_loss.numpy()}, Tasa de aprendizaje = {learning_rate}\")\n",
        "        print(f\"mu_a = {w[0].numpy()}, mu_b = {w[2].numpy()}\")\n"
      ]
    },
    {
      "cell_type": "code",
      "execution_count": 32,
      "metadata": {
        "colab": {
          "base_uri": "https://localhost:8080/"
        },
        "id": "sKtYNKJt9d07",
        "outputId": "13db8783-3b3a-470b-9596-a731e65f7016"
      },
      "outputs": [
        {
          "output_type": "stream",
          "name": "stdout",
          "text": [
            "a = 2.172048330307007 0.3168787658214569 b = -1.020429015159607 0.44447875022888184\n"
          ]
        }
      ],
      "source": [
        "a_0 = tf.math.softplus(w[0]).numpy()\n",
        "a_1 = tf.math.softplus(w[1]).numpy()\n",
        "b_2 = w[2].numpy()\n",
        "b_3 = tf.math.softplus(w[3]).numpy()\n",
        "\n",
        "print(f\"a = {a_0} {a_1} b = {b_2} {b_3}\")"
      ]
    },
    {
      "cell_type": "code",
      "execution_count": 22,
      "metadata": {
        "id": "q2IEwxW39d07"
      },
      "outputs": [],
      "source": [
        "loss_history, loss_history_nll, loss_history_kl = logger.X[:, 9], logger.X[:, 10], logger.X[:, 11]"
      ]
    },
    {
      "cell_type": "code",
      "execution_count": 23,
      "metadata": {
        "colab": {
          "base_uri": "https://localhost:8080/",
          "height": 473
        },
        "id": "IYxC71M39d07",
        "outputId": "ab4a13e6-a604-4b69-bbde-4e91c4d9ea97"
      },
      "outputs": [
        {
          "output_type": "display_data",
          "data": {
            "text/plain": [
              "<Figure size 640x480 with 1 Axes>"
            ],
            "image/png": "[encoded data removed]"
          },
          "metadata": {}
        }
      ],
      "source": [
        "plt.plot(loss_history, label=\"Total\")\n",
        "plt.plot(loss_history_kl, label=\"KL\")\n",
        "plt.plot(loss_history_nll, label=\"NLL\")\n",
        "plt.legend()\n",
        "plt.title(\"Losses\")\n",
        "plt.show()"
      ]
    },
    {
      "cell_type": "code",
      "execution_count": 24,
      "metadata": {
        "colab": {
          "base_uri": "https://localhost:8080/",
          "height": 493
        },
        "id": "0Y8waHOzZEQj",
        "outputId": "1b8997f3-447e-4c42-96f5-ec19fdc6a6b0"
      },
      "outputs": [
        {
          "output_type": "display_data",
          "data": {
            "text/plain": [
              "<Figure size 640x480 with 1 Axes>"
            ],
            "image/png": "[encoded data removed]"
          },
          "metadata": {}
        }
      ],
      "source": [
        "W = logger.X\n",
        "weights = W[:,1:5]\n",
        "epochs = W.shape[0]\n",
        "\n",
        "plt.plot(weights[:,0],color='r',linestyle='-.')\n",
        "plt.plot(weights[:,2],color='b', linestyle='-.')\n",
        "\n",
        "plt.xlabel('Epochs')\n",
        "plt.ylabel('Parameter Values')\n",
        "plt.legend(('mu_a [VI]', 'mu_b [VI]'))\n",
        "plt.title('Convergencia de las soluciones')\n",
        "plt.show()"
      ]
    },
    {
      "cell_type": "markdown",
      "metadata": {
        "id": "wi3yZlK2Z0FH"
      },
      "source": [
        "## Bayesian Neural Network (BNN)"
      ]
    },
    {
      "cell_type": "code",
      "execution_count": 25,
      "metadata": {
        "colab": {
          "base_uri": "https://localhost:8080/",
          "height": 379
        },
        "id": "xS3yZkPoaDXV",
        "outputId": "e53f1551-cec8-4c76-cc27-7681927f5997"
      },
      "outputs": [
        {
          "output_type": "error",
          "ename": "ValueError",
          "evalue": "Only instances of `keras.Layer` can be added to a Sequential model. Received: <tensorflow_probability.python.layers.dense_variational.DenseReparameterization object at 0x7898da4d6d50> (of type <class 'tensorflow_probability.python.layers.dense_variational.DenseReparameterization'>)",
          "traceback": [
            "\u001b[0;31m---------------------------------------------------------------------------\u001b[0m",
            "\u001b[0;31mValueError\u001b[0m                                Traceback (most recent call last)",
            "\u001b[0;32m<ipython-input-25-9eaa6118dae4>\u001b[0m in \u001b[0;36m<cell line: 0>\u001b[0;34m()\u001b[0m\n\u001b[1;32m      8\u001b[0m     \u001b[0;32mreturn\u001b[0m \u001b[0mtfp\u001b[0m\u001b[0;34m.\u001b[0m\u001b[0mdistributions\u001b[0m\u001b[0;34m.\u001b[0m\u001b[0mkl_divergence\u001b[0m\u001b[0;34m(\u001b[0m\u001b[0mq_distribution\u001b[0m\u001b[0;34m,\u001b[0m \u001b[0mp_distribution\u001b[0m\u001b[0;34m)\u001b[0m \u001b[0;34m/\u001b[0m \u001b[0;34m(\u001b[0m\u001b[0mn\u001b[0m \u001b[0;34m*\u001b[0m \u001b[0;36m1.0\u001b[0m\u001b[0;34m)\u001b[0m\u001b[0;34m\u001b[0m\u001b[0;34m\u001b[0m\u001b[0m\n\u001b[1;32m      9\u001b[0m \u001b[0;34m\u001b[0m\u001b[0m\n\u001b[0;32m---> 10\u001b[0;31m model = tf.keras.Sequential([\n\u001b[0m\u001b[1;32m     11\u001b[0m \u001b[0;34m\u001b[0m\u001b[0m\n\u001b[1;32m     12\u001b[0m     tfp.layers.DenseReparameterization(\n",
            "\u001b[0;32m/usr/local/lib/python3.11/dist-packages/keras/src/models/sequential.py\u001b[0m in \u001b[0;36m__init__\u001b[0;34m(self, layers, trainable, name)\u001b[0m\n\u001b[1;32m     73\u001b[0m         \u001b[0;32mif\u001b[0m \u001b[0mlayers\u001b[0m\u001b[0;34m:\u001b[0m\u001b[0;34m\u001b[0m\u001b[0;34m\u001b[0m\u001b[0m\n\u001b[1;32m     74\u001b[0m             \u001b[0;32mfor\u001b[0m \u001b[0mlayer\u001b[0m \u001b[0;32min\u001b[0m \u001b[0mlayers\u001b[0m\u001b[0;34m:\u001b[0m\u001b[0;34m\u001b[0m\u001b[0;34m\u001b[0m\u001b[0m\n\u001b[0;32m---> 75\u001b[0;31m                 \u001b[0mself\u001b[0m\u001b[0;34m.\u001b[0m\u001b[0madd\u001b[0m\u001b[0;34m(\u001b[0m\u001b[0mlayer\u001b[0m\u001b[0;34m,\u001b[0m \u001b[0mrebuild\u001b[0m\u001b[0;34m=\u001b[0m\u001b[0;32mFalse\u001b[0m\u001b[0;34m)\u001b[0m\u001b[0;34m\u001b[0m\u001b[0;34m\u001b[0m\u001b[0m\n\u001b[0m\u001b[1;32m     76\u001b[0m             \u001b[0mself\u001b[0m\u001b[0;34m.\u001b[0m\u001b[0m_maybe_rebuild\u001b[0m\u001b[0;34m(\u001b[0m\u001b[0;34m)\u001b[0m\u001b[0;34m\u001b[0m\u001b[0;34m\u001b[0m\u001b[0m\n\u001b[1;32m     77\u001b[0m \u001b[0;34m\u001b[0m\u001b[0m\n",
            "\u001b[0;32m/usr/local/lib/python3.11/dist-packages/keras/src/models/sequential.py\u001b[0m in \u001b[0;36madd\u001b[0;34m(self, layer, rebuild)\u001b[0m\n\u001b[1;32m     95\u001b[0m                 \u001b[0mlayer\u001b[0m \u001b[0;34m=\u001b[0m \u001b[0morigin_layer\u001b[0m\u001b[0;34m\u001b[0m\u001b[0;34m\u001b[0m\u001b[0m\n\u001b[1;32m     96\u001b[0m         \u001b[0;32mif\u001b[0m \u001b[0;32mnot\u001b[0m \u001b[0misinstance\u001b[0m\u001b[0;34m(\u001b[0m\u001b[0mlayer\u001b[0m\u001b[0;34m,\u001b[0m \u001b[0mLayer\u001b[0m\u001b[0;34m)\u001b[0m\u001b[0;34m:\u001b[0m\u001b[0;34m\u001b[0m\u001b[0;34m\u001b[0m\u001b[0m\n\u001b[0;32m---> 97\u001b[0;31m             raise ValueError(\n\u001b[0m\u001b[1;32m     98\u001b[0m                 \u001b[0;34m\"Only instances of `keras.Layer` can be \"\u001b[0m\u001b[0;34m\u001b[0m\u001b[0;34m\u001b[0m\u001b[0m\n\u001b[1;32m     99\u001b[0m                 \u001b[0;34mf\"added to a Sequential model. Received: {layer} \"\u001b[0m\u001b[0;34m\u001b[0m\u001b[0;34m\u001b[0m\u001b[0m\n",
            "\u001b[0;31mValueError\u001b[0m: Only instances of `keras.Layer` can be added to a Sequential model. Received: <tensorflow_probability.python.layers.dense_variational.DenseReparameterization object at 0x7898da4d6d50> (of type <class 'tensorflow_probability.python.layers.dense_variational.DenseReparameterization'>)"
          ]
        }
      ],
      "source": [
        "def negative_log_likelihood(targets, predicted_distribution):\n",
        "    return -predicted_distribution.log_prob(targets)\n",
        "\n",
        "def create_normal_distribution(mean):\n",
        "    return tfp.distributions.Normal(loc=mean[:, 0:1], scale=sigma)\n",
        "\n",
        "def kl_divergence(q_distribution, p_distribution, _):\n",
        "    return tfp.distributions.kl_divergence(q_distribution, p_distribution) / (n * 1.0)\n",
        "\n",
        "model = tf.keras.Sequential([\n",
        "\n",
        "    tfp.layers.DenseReparameterization(\n",
        "        units=1,\n",
        "        kernel_divergence_fn=kl_divergence,\n",
        "        bias_divergence_fn=kl_divergence,\n",
        "        bias_prior_fn=tfp.layers.util.default_multivariate_normal_fn,\n",
        "        bias_posterior_fn=tfp.layers.util.default_mean_field_normal_fn()\n",
        "    ),\n",
        "    tfp.layers.DistributionLambda(create_normal_distribution)\n",
        "])\n",
        "\n",
        "\n",
        "sgd_optimizer = tf.keras.optimizers.SGD(learning_rate=0.005)\n",
        "model.compile(loss=negative_log_likelihood, optimizer=sgd_optimizer)"
      ]
    },
    {
      "cell_type": "code",
      "execution_count": null,
      "metadata": {
        "id": "AoOPtcQrZXAI"
      },
      "outputs": [],
      "source": [
        "hist = model.fit(x, y, epochs=5000, batch_size=n, verbose=False)\n",
        "plt.plot(hist.history['loss'])\n",
        "plt.xlabel('Epochs')\n",
        "plt.ylabel('Total loss')"
      ]
    },
    {
      "cell_type": "markdown",
      "metadata": {
        "id": "WBq3Jz2E9d09"
      },
      "source": [
        "## Comparación de resultados"
      ]
    },
    {
      "cell_type": "code",
      "execution_count": null,
      "metadata": {
        "id": "Gzn0iB6L9d09"
      },
      "outputs": [],
      "source": [
        "def softplus_squared(x):\n",
        "    return np.log(1 + np.exp(x))**2"
      ]
    },
    {
      "cell_type": "markdown",
      "metadata": {
        "id": "4t9dChDU9d09"
      },
      "source": [
        "Los parámetros aprendidos por la regresión lineal son los siguientes:"
      ]
    },
    {
      "cell_type": "code",
      "execution_count": null,
      "metadata": {
        "id": "AzWhr5C19d09",
        "outputId": "602ed3d7-4c96-4c67-c7ea-3b1d8383d244"
      },
      "outputs": [
        {
          "data": {
            "text/plain": [
              "(2.0439196, 0.10144689197849237, -0.99211365, 0.19587144961548983)"
            ]
          },
          "execution_count": 15,
          "metadata": {},
          "output_type": "execute_result"
        }
      ],
      "source": [
        "_w = w.numpy()\n",
        "_w[0], softplus_squared(_w[1]), _w[2], softplus_squared(_w[3])"
      ]
    },
    {
      "cell_type": "markdown",
      "metadata": {
        "id": "ldxJk8Bu9d09"
      },
      "source": [
        "Los parámetros aprendidos por la BNN son los siguientes:"
      ]
    },
    {
      "cell_type": "code",
      "execution_count": null,
      "metadata": {
        "id": "GtylLW-H9d09"
      },
      "outputs": [],
      "source": [
        "model_weights = model.get_weights()"
      ]
    },
    {
      "cell_type": "code",
      "execution_count": null,
      "metadata": {
        "id": "uQozImxz9d09",
        "outputId": "107c504f-951d-4eae-9a6d-c27badd45d20"
      },
      "outputs": [
        {
          "data": {
            "text/plain": [
              "(2.0678554, 0.108449474, -0.9716571, 0.19621685)"
            ]
          },
          "execution_count": 17,
          "metadata": {},
          "output_type": "execute_result"
        }
      ],
      "source": [
        "model_weights[0][0,0], softplus_squared(model_weights[1][[0]])[0,0], model_weights[2][0], softplus_squared(model_weights[3][[0]])[0]"
      ]
    }
  ],
  "metadata": {
    "colab": {
      "provenance": []
    },
    "kernelspec": {
      "display_name": "Python 3",
      "name": "python3"
    },
    "language_info": {
      "codemirror_mode": {
        "name": "ipython",
        "version": 3
      },
      "file_extension": ".py",
      "mimetype": "text/x-python",
      "name": "python",
      "nbconvert_exporter": "python",
      "pygments_lexer": "ipython3",
      "version": "3.10.13"
    }
  },
  "nbformat": 4,
  "nbformat_minor": 0
}