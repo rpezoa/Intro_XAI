{
 "cells": [
  {
   "cell_type": "markdown",
   "id": "3c3b1125",
   "metadata": {},
   "source": [
    "<center>\n",
    "    <h1> Clasificación de eventos y explicación con SHAP </h2>\n",
    "</center>"
   ]
  },
  {
   "cell_type": "markdown",
   "id": "7bb327c0",
   "metadata": {},
   "source": [
    "## Contenidos\n",
    "\n",
    "* [Introducción](#Introducción)\n",
    "* [Bibliotecas](#Bibliotecas)\n",
    "* [Datos](#Datos)\n",
    "* [Modelo Caja Negra](#Modelo-Caja-Negra)\n",
    "* [KernelExplainer](#KernelExplainer)\n",
    "* [Ejercicio](#Ejercicio)"
   ]
  },
  {
   "attachments": {},
   "cell_type": "markdown",
   "id": "b384d222",
   "metadata": {},
   "source": [
    "## Introducción\n",
    "\n",
    "En el siguiente notebook, se ejemplifica el uso de SHAP para explicar un modelo de red neuronal que clasifica eventos de **HEP** (High Energy Physics) en dos clases: *signal* y *background*. \n",
    "\n",
    "Como se puede ver en la imagen, tanto la señal como el *background* corresponden a eventos que decaen en dos bosones $W$ y dos quarks $b$. La diferencia yace en que la señal involucra los bosones de Higgs $H^0$ y $H^{\\pm}$."
   ]
  },
  {
   "cell_type": "markdown",
   "id": "e0bf187b",
   "metadata": {},
   "source": [
    "<p align=\"center\">\n",
    "  <img src=\"../data/signal_back.jpg\" width=\"300\">\n",
    "</p>\n",
    "<p align=\"center\">\n",
    "  <i>Imagen obtenida desde <a href=\"https://www.nature.com/articles/ncomms5308\">Baldi et al (2014)</a></i>\n",
    "</p>\n",
    "\n"
   ]
  },
  {
   "cell_type": "markdown",
   "id": "3b901c64",
   "metadata": {},
   "source": [
    "## Bibliotecas"
   ]
  },
  {
   "cell_type": "code",
   "execution_count": null,
   "id": "905add98",
   "metadata": {},
   "outputs": [],
   "source": [
    "%matplotlib inline\n",
    "%load_ext autoreload\n",
    "%autoreload 2"
   ]
  },
  {
   "cell_type": "code",
   "execution_count": null,
   "id": "8df0a518",
   "metadata": {},
   "outputs": [],
   "source": [
    "import shap\n",
    "import keras\n",
    "import numpy as np\n",
    "import pandas as pd\n",
    "import mplhep as hep\n",
    "import matplotlib.pyplot as plt\n",
    "from sklearn.model_selection import train_test_split\n",
    "from sklearn.metrics import roc_curve, auc, precision_score, recall_score, accuracy_score, f1_score"
   ]
  },
  {
   "cell_type": "code",
   "execution_count": null,
   "id": "68f823a2",
   "metadata": {},
   "outputs": [],
   "source": [
    "shap.initjs()"
   ]
  },
  {
   "cell_type": "markdown",
   "id": "2b737d8f",
   "metadata": {},
   "source": [
    "## Datos\n",
    "\n",
    "El conjunto de datos es público y se puede descargar desde el siguiente [link](https://www.openml.org/d/23512).\n",
    "\n",
    "Cada evento es representado por un conjunto de 28 variables.\n",
    "\n",
    "21 variables son de bajo nivel y corresponden a propiedades físicas medidas mediante un detector.\n",
    "\n",
    "7 variables son de alto nivel, y por ende, derivadas a partir de las variables de bajo nivel."
   ]
  },
  {
   "cell_type": "markdown",
   "id": "706dde82",
   "metadata": {},
   "source": [
    "<table style=\"margin: 0 auto;\">\n",
    "  <thead>\n",
    "    <tr>\n",
    "      <th>Type</th>\n",
    "      <th>Variable</th>\n",
    "      <th>Description</th>\n",
    "    </tr>\n",
    "  </thead>\n",
    "  <tbody>\n",
    "    <tr>\n",
    "      <td>low-level</td>\n",
    "      <td>lepton pT</td>\n",
    "      <td>Momentum of the lepton</td>\n",
    "    </tr>\n",
    "    <tr>\n",
    "      <td>low-level</td>\n",
    "      <td>lepton eta</td>\n",
    "      <td>Pseudorapidity eta of the lepton</td>\n",
    "    </tr>\n",
    "    <tr>\n",
    "      <td>low-level</td>\n",
    "      <td>lepton phi</td>\n",
    "      <td>Azimuthal angle phi of the lepton</td>\n",
    "    </tr>\n",
    "    <tr>\n",
    "      <td>low-level</td>\n",
    "      <td>Missing energy magnitude</td>\n",
    "      <td>Energy not detected</td>\n",
    "    </tr>\n",
    "    <tr>\n",
    "      <td colspan=\"3\">...</td>  </tr>\n",
    "    <tr>\n",
    "      <td>high-level</td>\n",
    "      <td>m_jlv</td>\n",
    "      <td>Mass jet ($j$), lepton ($l$, electrons or muons), neutrino $\\nu$</td>\n",
    "    </tr>\n",
    "    <tr>\n",
    "      <td>high-level</td>\n",
    "      <td>m_bb</td>\n",
    "      <td>Mass quarks $b$</td>\n",
    "    </tr>\n",
    "    <tr>\n",
    "      <td>high-level</td>\n",
    "      <td>m_wbb</td>\n",
    "      <td>Mass boson $W$ and quarks $b$</td>\n",
    "    </tr>\n",
    "    <tr>\n",
    "      <td>high-level</td>\n",
    "      <td>m_wwbb</td>\n",
    "      <td>Mass bosons $W$ and quarks $b$</td>\n",
    "    </tr>\n",
    "  </tbody>\n",
    "</table>\n"
   ]
  },
  {
   "cell_type": "code",
   "execution_count": null,
   "id": "97da2467",
   "metadata": {},
   "outputs": [],
   "source": [
    "path_to_dataset = \"data/higgs_bb.csv\"\n",
    "df = pd.read_csv(path_to_dataset, skipfooter=1, engine='python')"
   ]
  },
  {
   "cell_type": "code",
   "execution_count": null,
   "id": "72c467ba",
   "metadata": {},
   "outputs": [],
   "source": [
    "X, y = df.iloc[:, 1:], df.iloc[:, 0]\n",
    "\n",
    "X_train, X_test, y_train, y_test = train_test_split(X, y, test_size=0.2, random_state=0)\n",
    "X_train, X_val, y_train, y_val = train_test_split(\n",
    "    X_train, y_train, shuffle=True, test_size=0.2, random_state=0\n",
    ")"
   ]
  },
  {
   "cell_type": "markdown",
   "id": "6175e65a",
   "metadata": {},
   "source": [
    "## Modelo Caja Negra\n",
    "\n",
    "El modelo a explicar se encuentra entrenado y se debe descargar desde el siguiente [Drive](https://drive.google.com/drive/folders/1RP9mYlGoEXCaR0XemMH5LwWue8_buPpF?usp=sharing)."
   ]
  },
  {
   "cell_type": "code",
   "execution_count": null,
   "id": "704c5b0a",
   "metadata": {},
   "outputs": [],
   "source": [
    "path_to_model = \"data/DNN_model.h5\"\n",
    "model = keras.models.load_model(path_to_model)"
   ]
  },
  {
   "cell_type": "markdown",
   "id": "535af401",
   "metadata": {},
   "source": [
    "El modelo produce una salida en el rango [0,1], donde valores cercanos a 1 indican eventos de señal y valores cercanos a 0 indican eventos de *background*."
   ]
  },
  {
   "cell_type": "code",
   "execution_count": null,
   "id": "4e7d7726",
   "metadata": {},
   "outputs": [],
   "source": [
    "y_pred_train = model.predict(X_train)\n",
    "y_pred_val = model.predict(X_val)\n",
    "y_pred_test = model.predict(X_test)"
   ]
  },
  {
   "cell_type": "code",
   "execution_count": null,
   "id": "737450f6",
   "metadata": {},
   "outputs": [],
   "source": [
    "f, axs = plt.subplots(1, 1, sharex=True, sharey=True)\n",
    "h_signal_train, bins_sig_train = np.histogram(y_pred_train[y_train == 1], bins=30)\n",
    "h_back_train, bins_back_train = np.histogram(y_pred_train[y_train == 0], bins=30)\n",
    "h_sig_test, bins_sig_test = np.histogram(y_pred_test[y_test == 1], bins=30)\n",
    "h_back_test, bins_back_test = np.histogram(y_pred_test[y_test == 0], bins=30)\n",
    "\n",
    "axs.set_title(\"Distribución de predicciones\", fontsize=14)\n",
    "hep.histplot(\n",
    "    [h_signal_train, h_back_train, h_sig_test, h_back_test],\n",
    "    bins_sig_test,\n",
    "    ax=axs,\n",
    "    label=[\"Train-Sig\", \"Train-B\", \"Test-S\", \"Test-B\"],\n",
    ")\n",
    "axs.legend(fontsize=16)\n",
    "axs.set_xlabel(\"Predicción\")\n",
    "axs.set_ylabel(\"Número de eventos\")\n",
    "\n",
    "plt.tight_layout()\n",
    "plt.show()"
   ]
  },
  {
   "cell_type": "code",
   "execution_count": null,
   "id": "58671e9f",
   "metadata": {},
   "outputs": [],
   "source": [
    "y_pred = y_pred_test > 0.5\n",
    "\n",
    "fpr, tpr, _ = roc_curve(y_test, y_pred_test)\n",
    "auc_score = auc(fpr, tpr)\n",
    "metrics = {\n",
    "    \"Accuracy\": accuracy_score(y_test, y_pred),\n",
    "    \"Precision\": precision_score(y_test, y_pred),\n",
    "    \"Recall\": recall_score(y_test, y_pred),\n",
    "    \"F1\": f1_score(y_test, y_pred),\n",
    "    \"AUC\": auc_score\n",
    "}\n",
    "\n",
    "for metric_name, metric_value in metrics.items():\n",
    "    print(f\"{metric_name}: {metric_value:.2f}\")"
   ]
  },
  {
   "cell_type": "code",
   "execution_count": null,
   "id": "5c74a64b",
   "metadata": {},
   "outputs": [],
   "source": [
    "plt.plot(fpr,tpr, label=f\"Curva ROC (area = {auc_score:.2f})\")\n",
    "plt.ylabel('True Positive Rate')\n",
    "plt.xlabel('False Positive Rate')\n",
    "plt.legend()\n",
    "plt.grid()\n",
    "plt.show()"
   ]
  },
  {
   "cell_type": "markdown",
   "id": "9f4dbc2b",
   "metadata": {},
   "source": [
    "## KernelExplainer"
   ]
  },
  {
   "cell_type": "code",
   "execution_count": null,
   "id": "20f56d0b",
   "metadata": {},
   "outputs": [],
   "source": [
    "n = 100"
   ]
  },
  {
   "cell_type": "code",
   "execution_count": null,
   "id": "bf1f715c",
   "metadata": {},
   "outputs": [],
   "source": [
    "explainer = shap.KernelExplainer(model.predict, X_test.iloc[:n])\n",
    "shap_values = explainer(X_test[:n])\n",
    "\n"
   ]
  },
  {
   "cell_type": "code",
   "execution_count": null,
   "id": "27401f55-33aa-421a-b6d8-47eabcc2772e",
   "metadata": {},
   "outputs": [],
   "source": [
    "shap_values.values = shap_values.values.squeeze()"
   ]
  },
  {
   "cell_type": "markdown",
   "id": "c6acc8aa",
   "metadata": {},
   "source": [
    "### Watefall plot\n",
    "\n",
    "* El [shap.plots.waterfall](https://shap.readthedocs.io/en/latest/example_notebooks/api_examples/plots/waterfall.html) muestra la explicación de la predicción de una instancia específica.\n",
    "* La parte inferior de un gráfico de cascada comienza con el valor esperado del resultado del modelo, y luego cada fila muestra cómo la contribución positiva (roja) o negativa (azul) de cada variable que define a la instancia mueve el valor del resultado esperado del modelo"
   ]
  },
  {
   "cell_type": "code",
   "execution_count": null,
   "id": "7980678f",
   "metadata": {},
   "outputs": [],
   "source": [
    "instance_idx = 0 # Should be less than n\n",
    "shap.plots.waterfall(shap_values[instance_idx])"
   ]
  },
  {
   "cell_type": "markdown",
   "id": "78b98903",
   "metadata": {},
   "source": [
    "### Force plot\n",
    "\n",
    "El [gráfico de fuerza](https://shap.readthedocs.io/en/latest/example_notebooks/tabular_examples/tree_based_models/Force%20Plot%20Colors.html) es otra forma de visualizar la contribución de cada variable en la predicción generada por el modelo\n"
   ]
  },
  {
   "cell_type": "code",
   "execution_count": null,
   "id": "7fad6e27",
   "metadata": {},
   "outputs": [],
   "source": [
    "instance_idx = 0 # Should be less than n\n",
    "shap.plots.force(shap_values[instance_idx])"
   ]
  },
  {
   "cell_type": "markdown",
   "id": "d61232a0",
   "metadata": {},
   "source": [
    "### Summary Plot\n",
    "\n",
    "* Muestra un resumen de como las variables de un conjunto de datos afecta en salida del modelo. \n",
    "* Cada punto del gráfico es una instancia \n",
    "* La posición del punto en el eje $x$ está determimada por su el valor SHAP \n",
    "* Los puntos se van \"apilando\" a lo largo de cada fila de variables \n",
    "* El color se usa para mostrar el valor original de una característica \n",
    "* Por ejemplo, en este gráfico se ve que la variable que más contribuye en promedio es m_bb.\n"
   ]
  },
  {
   "cell_type": "code",
   "execution_count": null,
   "id": "d10c345b",
   "metadata": {},
   "outputs": [],
   "source": [
    "shap.summary_plot(shap_values, X_test[:n])"
   ]
  },
  {
   "cell_type": "markdown",
   "id": "7c8f5f77",
   "metadata": {},
   "source": [
    "### Ranking de variables\n",
    "\n",
    "* El summary plot también se puede mostrar con barras, lo que entrega un *ranking* de variables\n",
    "* Este ranking nos entrega una **explicación global** y se construye calculando un índice de importance $I_j$ de la variable $j$, considerando el promedio de los valores absolutos de los valores SHAP por cada variable y para todo el conjunto de datos:\n",
    "$$I_j = \\frac{1}{n}\\sum_{i=1}^{n}|\\phi_{j}^{(i)}|$$\n",
    "\n",
    "donde $j$ es el índice asociado a la variable y $n$ representa el número de variables que definen a los datos"
   ]
  },
  {
   "cell_type": "code",
   "execution_count": null,
   "id": "85faad0f",
   "metadata": {},
   "outputs": [],
   "source": [
    "shap.summary_plot(shap_values, X_test[:n], plot_type=\"bar\")"
   ]
  },
  {
   "cell_type": "markdown",
   "id": "9c4314b3",
   "metadata": {},
   "source": [
    "### Dependence plot\n",
    "\n",
    "* Este gráfico de [dependencia](https://shap-lrjball.readthedocs.io/en/latest/generated/shap.dependence_plot.html), también nos entrega una explicación global.\n",
    "* Este gráfico muestra el valor de la variable en el eje $x$ y el valor SHAP en el eje $y$\n",
    "* Se visualiza cómo el modelo depende se comporta para la variable indicada \n",
    "* La dispersión vertical de los puntos de datos representa efectos de interacción. \n",
    "* El color de los puntos va asociado a la variable con la que tiene mayor *interacción*."
   ]
  },
  {
   "cell_type": "code",
   "execution_count": null,
   "id": "8241d9ae",
   "metadata": {},
   "outputs": [],
   "source": [
    "shap.dependence_plot(\"m_wbb\", shap_values.values, X_test[:n])"
   ]
  },
  {
   "cell_type": "markdown",
   "id": "bfa131a4",
   "metadata": {},
   "source": [
    "## Ejercicio\n",
    "\n",
    "* Probar explicaciones para otros eventos.\n",
    "* Usar <a href=\"https://shap.readthedocs.io/en/latest/example_notebooks/api_examples/plots/decision_plot.html\">decision plot</a>  e indicar que permite explicar. ¿Es explicación local o global?</li>"
   ]
  },
  {
   "cell_type": "code",
   "execution_count": null,
   "id": "18807484-94f7-4f09-8c6b-2b27952fe3ce",
   "metadata": {},
   "outputs": [],
   "source": []
  }
 ],
 "metadata": {
  "kernelspec": {
   "display_name": "Python 3 (ipykernel)",
   "language": "python",
   "name": "python3"
  },
  "language_info": {
   "codemirror_mode": {
    "name": "ipython",
    "version": 3
   },
   "file_extension": ".py",
   "mimetype": "text/x-python",
   "name": "python",
   "nbconvert_exporter": "python",
   "pygments_lexer": "ipython3",
   "version": "3.8.19"
  }
 },
 "nbformat": 4,
 "nbformat_minor": 5
}
