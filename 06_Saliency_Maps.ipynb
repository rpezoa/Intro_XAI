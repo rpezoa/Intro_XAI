{
  "cells": [
    {
      "cell_type": "markdown",
      "metadata": {
        "id": "eoyITD3jgGLl"
      },
      "source": [
        "# Saliency Maps\n",
        "***\n",
        "\n",
        "\n",
        "*   Ejemplo obtenido de la documentación de [tf-keras-vis](https://keisen.github.io/tf-keras-vis-docs/examples/attentions.html#Vanilla-Saliency)\n",
        "* Uso del método saliency maps (o vanilla backpropagation) propuesto en [Simonyan et al., 2013].\n",
        "\n",
        "\n",
        "[Simonyan et al., 2013] Simonyan, K., Vedaldi, A., and Zisserman, A. (2013). Deep inside convolutional networks: Visualising image classification models and saliency maps. *arXiv preprint arXiv:1312.6034*\n",
        "\n",
        "\n",
        "\n"
      ]
    },
    {
      "cell_type": "markdown",
      "metadata": {
        "id": "dlKcyLGUs8IQ"
      },
      "source": [
        "# Bibliotecas necesarias"
      ]
    },
    {
      "cell_type": "markdown",
      "metadata": {
        "id": "bkQmjZWZs6_O"
      },
      "source": []
    },
    {
      "cell_type": "code",
      "execution_count": null,
      "metadata": {
        "id": "TAKCx-eIp8ui"
      },
      "outputs": [],
      "source": [
        "! pip install tf-keras-vis tensorflow"
      ]
    },
    {
      "cell_type": "code",
      "execution_count": 4,
      "metadata": {
        "colab": {
          "base_uri": "https://localhost:8080/"
        },
        "id": "LRjdo_tcpx5P",
        "outputId": "859b5ba0-c3be-495e-8756-2adfcdb637e8"
      },
      "outputs": [
        {
          "output_type": "stream",
          "name": "stdout",
          "text": [
            "Tensorflow recognized 1 GPUs\n"
          ]
        }
      ],
      "source": [
        "%reload_ext autoreload\n",
        "%autoreload 2\n",
        "\n",
        "import numpy as np\n",
        "from matplotlib import pyplot as plt\n",
        "%matplotlib inline\n",
        "\n",
        "import tensorflow as tf\n",
        "from tf_keras_vis.utils import num_of_gpus\n",
        "\n",
        "_, gpus = num_of_gpus()\n",
        "print('Tensorflow recognized {} GPUs'.format(gpus))"
      ]
    },
    {
      "cell_type": "markdown",
      "metadata": {
        "id": "fcTTkS-QtKrP"
      },
      "source": [
        "# Cargando modelo VGG16\n",
        "***"
      ]
    },
    {
      "cell_type": "code",
      "execution_count": null,
      "metadata": {
        "id": "b3YUvmLjsRmn"
      },
      "outputs": [],
      "source": [
        "from tensorflow.keras.applications.vgg16 import VGG16 as Model\n",
        "\n",
        "model = Model(weights='imagenet', include_top=True)\n",
        "model.summary()"
      ]
    },
    {
      "cell_type": "markdown",
      "metadata": {
        "id": "BNmcM4QEtZQo"
      },
      "source": [
        "# Imágenes de prueba"
      ]
    },
    {
      "cell_type": "code",
      "source": [
        "\n",
        "!gdown https://drive.google.com/uc?id=1y_kNEvqidyZek_iIiEH4orXLINR42P0f\n",
        "!gdown https://drive.google.com/uc?id=1TO7aFau6U2InbebhfjtPEb0uHUnx71Ag\n",
        "!gdown https://drive.google.com/uc?id=13TsWkxihmUaw0yjT0vglUxFgSWj-YwUO\n"
      ],
      "metadata": {
        "id": "NvJwcWzrv_SH"
      },
      "execution_count": null,
      "outputs": []
    },
    {
      "cell_type": "markdown",
      "source": [],
      "metadata": {
        "id": "o3lEjoUexaHh"
      }
    },
    {
      "cell_type": "code",
      "execution_count": null,
      "metadata": {
        "id": "6ybWFJPKp0Yy"
      },
      "outputs": [],
      "source": [
        "from tensorflow.keras.preprocessing.image import load_img\n",
        "from tensorflow.keras.applications.vgg16 import preprocess_input\n",
        "\n",
        "# Título de las imágenes\n",
        "image_titles = ['Goldfish', 'Bear', 'Lemon']\n",
        "\n",
        "# Cargar las imágenesá y transformarlas a arreglos de numpy\n",
        "img1 = load_img('Goldfish.jpeg', target_size=(224, 224))\n",
        "img2 = load_img('bear.JPEG', target_size=(224, 224))\n",
        "img3 = load_img('lemons-tree.jpg', target_size=(224, 224))\n",
        "images = np.asarray([np.array(img1), np.array(img2), np.array(img3)])\n",
        "\n",
        "# Preprocesamiento de los datos para entrar a VGG16\n",
        "X = preprocess_input(images)\n",
        "\n",
        "# Mostrando imágenes\n",
        "f, ax = plt.subplots(nrows=1, ncols=3, figsize=(12, 4))\n",
        "for i, title in enumerate(image_titles):\n",
        "    ax[i].set_title(title, fontsize=16)\n",
        "    ax[i].imshow(images[i])\n",
        "    ax[i].axis('off')\n",
        "plt.tight_layout()\n",
        "plt.show()\n"
      ]
    },
    {
      "cell_type": "markdown",
      "metadata": {
        "id": "F-suGbFutgob"
      },
      "source": [
        "# Usando módulo *tf_keras_vis*\n",
        "## Saliency Maps"
      ]
    },
    {
      "cell_type": "markdown",
      "metadata": {
        "id": "HWvGKiTuh4zo"
      },
      "source": [
        "Cuando la última capa de la red tiene la función de activación softmax, se reemplaza por una función de activación lineal.\n",
        "Se puede usar ReplaceToLinear o una función propia."
      ]
    },
    {
      "cell_type": "code",
      "execution_count": 8,
      "metadata": {
        "id": "AspS1iWKqG6Q"
      },
      "outputs": [],
      "source": [
        "from tf_keras_vis.utils.model_modifiers import ReplaceToLinear\n",
        "\n",
        "replace2linear = ReplaceToLinear()\n",
        "\n",
        "# Instead of using the ReplaceToLinear instance above,\n",
        "# you can also define the function from scratch as follows:\n",
        "def model_modifier_function(cloned_model):\n",
        "    cloned_model.layers[-1].activation = tf.keras.activations.linear"
      ]
    },
    {
      "cell_type": "code",
      "execution_count": 9,
      "metadata": {
        "id": "P5iJucHmsA0K"
      },
      "outputs": [],
      "source": [
        "from tf_keras_vis.utils.scores import CategoricalScore\n",
        "\n",
        "# 1 es la etiqueta de la clase Goldfish, 294 para Bear y 951 para lemon\n",
        "score = CategoricalScore([1, 294, 951])\n",
        "\n",
        "# También se puede usar una función propia para generar etiquetas categóricas\n",
        "\n",
        "def score_function(output):\n",
        "    # `output`: salida del modelo\n",
        "    # en este caso, `output` shape es `(3, 1000)` i.e., (samples, classes).\n",
        "    return (output[0][1], output[1][294], output[2][951])"
      ]
    },
    {
      "cell_type": "code",
      "execution_count": null,
      "metadata": {
        "id": "CrkKwn2RsDwC"
      },
      "outputs": [],
      "source": [
        "%%time\n",
        "from tensorflow.keras import backend as K\n",
        "from tf_keras_vis.saliency import Saliency\n",
        "\n",
        "\n",
        "# Creación del objeto  Saliency\n",
        "saliency = Saliency(model,\n",
        "                    model_modifier=replace2linear,\n",
        "                    clone=True)\n",
        "\n",
        "# Generación del 'mapa de prominencias'\n",
        "saliency_map = saliency(score, X)\n",
        "\n",
        "\n",
        "# Mostrando mapas\n",
        "f, ax = plt.subplots(nrows=1, ncols=3, figsize=(12, 4))\n",
        "for i, title in enumerate(image_titles):\n",
        "    ax[i].set_title(title, fontsize=16)\n",
        "    ax[i].imshow(saliency_map[i], cmap='jet')\n",
        "    ax[i].axis('off')\n",
        "plt.tight_layout()\n",
        "plt.show()"
      ]
    },
    {
      "cell_type": "code",
      "execution_count": null,
      "metadata": {
        "id": "BB2sJYt3jvZ8"
      },
      "outputs": [],
      "source": []
    }
  ],
  "metadata": {
    "accelerator": "GPU",
    "colab": {
      "gpuType": "T4",
      "provenance": []
    },
    "kernelspec": {
      "display_name": "Python 3 (ipykernel)",
      "language": "python",
      "name": "python3"
    },
    "language_info": {
      "codemirror_mode": {
        "name": "ipython",
        "version": 3
      },
      "file_extension": ".py",
      "mimetype": "text/x-python",
      "name": "python",
      "nbconvert_exporter": "python",
      "pygments_lexer": "ipython3",
      "version": "3.9.12"
    }
  },
  "nbformat": 4,
  "nbformat_minor": 0
}