{
  "nbformat": 4,
  "nbformat_minor": 0,
  "metadata": {
    "accelerator": "GPU",
    "colab": {
      "name": "nb_ch04_04.ipynb",
      "provenance": [],
      "include_colab_link": true
    },
    "kernelspec": {
      "display_name": "Python 3",
      "language": "python",
      "name": "python3"
    },
    "language_info": {
      "codemirror_mode": {
        "name": "ipython",
        "version": 3
      },
      "file_extension": ".py",
      "mimetype": "text/x-python",
      "name": "python",
      "nbconvert_exporter": "python",
      "pygments_lexer": "ipython3",
      "version": "3.6.8"
    }
  },
  "cells": [
    {
      "cell_type": "markdown",
      "metadata": {
        "id": "view-in-github",
        "colab_type": "text"
      },
      "source": [
        "<a href=\"https://colab.research.google.com/github/rpezoa/Intro_XAI/blob/main/09_Linear_Regression_NN.ipynb\" target=\"_parent\"><img src=\"https://colab.research.google.com/assets/colab-badge.svg\" alt=\"Open In Colab\"/></a>"
      ]
    },
    {
      "cell_type": "markdown",
      "metadata": {
        "id": "IckpDJSeOoFS"
      },
      "source": [
        "# Redes neuronales con funciones de pérdida apropiadas para ajustar modelos de regresión flexibles\n",
        "\n",
        "**Fuente :**\n",
        "Este archivo está basado en el notebook disponible en este [link](https://github.com/tensorchiefs/dl_book/blob/master/chapter_04/nb_ch04_04.ipynb).\n",
        "\n",
        "**Objetivo:**  \n",
        "En este notebook se adapta paso a paso la arquitectura de la red neuronal y la función de pérdida para desarrollar un modelo de regresión que logre un buen ajuste. Se usa un conjunto de datos simulado con dos variables (`x`, `y`) que muestran una dependencia no lineal de `y` con respecto a `x`, y una variabilidad de los datos que no es constante. Se visualiza que es necesario agregar capas ocultas no lineales si deseas modelar relaciones no lineales. Además, se necesita una red neuronal con dos nodos de salida cuando se quiere modelar una distribución condicional normal (CPD) con parámetros $\\mu$ y $\\sigma$, especialmente si $\\sigma$ no es constante (heterocedasticidad).\n",
        "\n",
        "**Uso:**  \n",
        "La idea del notebook es entender el código proporcionado ejecutándolo y revisando su salida y jugando con él, haciendo pequeños cambios y volviéndolo a ejecutar.\n",
        "\n",
        "**Conjunto de datos:**  \n",
        "Un conjunto de datos simulado con una onda senoidal que tiene una pequeña tendencia lineal positiva y una varianza que depende de la amplitud.\n",
        "\n",
        "**Contenido:**\n",
        "\n",
        "- Simular un conjunto de datos con una relación no lineal entre `x` e `y` y una variabilidad cambiante de los datos.\n",
        "\n",
        "- Ver la regresión como un modelo para la CPD normal donde la media y la desviación estándar dependen de `x`.\n",
        "\n",
        "- **Primer modelo:**  \n",
        "  Usar una red neuronal sin capas ocultas y con un nodo de salida para ajustar una regresión lineal donde solo el parámetro de la media de la CPD depende de `x`. La función de pérdida está dada por la NLL, la cual se reduce al MSE si se asume una varianza constante.\n",
        "\n",
        "- **Segundo modelo:**  \n",
        "  Usar una red neuronal con capas ocultas y un nodo de salida para ajustar una regresión donde el parámetro de la media de la CPD puede depender no linealmente de `x`. La función de pérdida sigue siendo la NLL, que se reduce al MSE si se asume varianza constante.\n",
        "\n",
        "- **Tercer modelo:**  \n",
        "  Usar una red neuronal con capas ocultas y dos nodos de salida para ajustar una regresión donde tanto la media como la desviación estándar de la CPD pueden depender no linealmente de `x`. La función de pérdida está dada por la NLL, que **ya no se reduce al MSE**, ya que no se asume una varianza constante."
      ]
    },
    {
      "cell_type": "markdown",
      "metadata": {
        "id": "pCtD4gSldZKK"
      },
      "source": [
        "#### Install correct TF version (colab only)"
      ]
    },
    {
      "cell_type": "code",
      "metadata": {
        "id": "ionMN2eHdcV4"
      },
      "source": [
        "#versiones necesarios para poder ejecutar\n",
        "try:\n",
        "  import google.colab\n",
        "  !pip install tensorflow==2.15.0\n",
        "  ! pip install numpy==1.26.4\n",
        "except:\n",
        "  print('Not running in colab')"
      ],
      "execution_count": null,
      "outputs": []
    },
    {
      "cell_type": "code",
      "source": [
        "import tensorflow as tf\n",
        "import numpy as np\n",
        "print(tf.__version__)\n",
        "print(np.__version__)"
      ],
      "metadata": {
        "id": "USp6tub6iuo8"
      },
      "execution_count": null,
      "outputs": []
    },
    {
      "cell_type": "markdown",
      "metadata": {
        "id": "TUFwjkN-WESV"
      },
      "source": [
        "#### Imports\n",
        "In the next three cells, we load all the required libraries and simulate and plot a dataset with a sine wave that has small linear slope and variace that gets bigger with the amplitude.\n"
      ]
    },
    {
      "cell_type": "code",
      "metadata": {
        "id": "HXEeQpA-KFVN"
      },
      "source": [
        "try: #If running in colab\n",
        "    import google.colab\n",
        "    IN_COLAB = True\n",
        "    %tensorflow_version 2.x\n",
        "except:\n",
        "    IN_COLAB = False"
      ],
      "execution_count": null,
      "outputs": []
    },
    {
      "cell_type": "code",
      "metadata": {
        "id": "XELVT3DbKFVS"
      },
      "source": [
        "import tensorflow as tf\n",
        "if (not tf.__version__.startswith('2')): #Checking if tf 2.0 is installed\n",
        "    print('Please install tensorflow 2.0 to run this notebook')\n",
        "print('Tensorflow version: ',tf.__version__, ' running in colab?: ', IN_COLAB)"
      ],
      "execution_count": null,
      "outputs": []
    },
    {
      "cell_type": "code",
      "metadata": {
        "id": "wXx-oXP3c5Qo"
      },
      "source": [
        "#load required libraries:\n",
        "import numpy as np\n",
        "import matplotlib.pyplot as plt\n",
        "%matplotlib inline\n",
        "plt.style.use('default')\n",
        "import numpy as np\n",
        "\n",
        "from tensorflow.keras.models import Sequential\n",
        "from tensorflow.keras.layers import Dense, Convolution2D, MaxPooling2D, Flatten , Activation\n",
        "from tensorflow.keras import optimizers\n",
        "\n",
        "tf.__version__"
      ],
      "execution_count": null,
      "outputs": []
    },
    {
      "cell_type": "markdown",
      "metadata": {
        "id": "msWFSYpyWP64"
      },
      "source": [
        "#### Datos simulados"
      ]
    },
    {
      "cell_type": "code",
      "metadata": {
        "id": "HeNcEP7FHqMS"
      },
      "source": [
        "def create_sine_data(n = 300):\n",
        "    np.random.seed(32)\n",
        "    n = 300\n",
        "    x = np.linspace(0,1*2*np.pi,n)\n",
        "    y1 = 3*np.sin(x)\n",
        "    y1 = np.concatenate((np.zeros(60), y1+np.random.normal(0,0.15*np.abs(y1),n),np.zeros(60)))\n",
        "    x=np.concatenate((np.linspace(-3,0,60),np.linspace(0,3*2*np.pi,n),np.linspace(3*2*np.pi,3*2*np.pi+3,60)))\n",
        "    y2 = 0.1*x+1\n",
        "    y=y1+y2\n",
        "    return x,y"
      ],
      "execution_count": null,
      "outputs": []
    },
    {
      "cell_type": "code",
      "metadata": {
        "id": "M_TLELogc53W"
      },
      "source": [
        "x,y = create_sine_data(n=300) #A\n",
        "plt.scatter(x=x,y=y,marker='o')\n",
        "plt.title(\"datos simulados\")\n",
        "plt.xlabel(\"x\")\n",
        "plt.ylabel(\"y\")\n",
        "n=len(x)"
      ],
      "execution_count": null,
      "outputs": []
    },
    {
      "cell_type": "markdown",
      "metadata": {
        "id": "D08xD5pIWugV"
      },
      "source": [
        "## Primer modelo: NN para la regresión lineal simple\n",
        "\n",
        "- Se usará una red neuronal sin capa oculta y con un nodo de salida para ajustar un modelo de regresión lineal, en el cual el parámetro de la media de la CPD depende linealmente de `x`.\n",
        "\n",
        "- Dado que la varianza no será modelada, la función de pérdida o NLL estará dada por el error cuadrático medio (MSE) (ver deducción en la sección 4.3).\n"
      ]
    },
    {
      "cell_type": "code",
      "metadata": {
        "id": "553ybn8J3qCK"
      },
      "source": [
        "# Configuración de una red neuronal sin capa oculta y con un solo nodo de salida.\n",
        "# Se supone que la media de la CPD depende linealmente de `x` y\n",
        "# que la desviación estándar de la CPD es constante y no es modelada.\n",
        "\n",
        "model = Sequential()\n",
        "model.add(Dense(1, activation='linear',batch_input_shape=(None, 1)))\n",
        "model.compile(loss='mean_squared_error',optimizer=\"adam\")"
      ],
      "execution_count": null,
      "outputs": []
    },
    {
      "cell_type": "code",
      "metadata": {
        "id": "YP-YJS7H5Nq2"
      },
      "source": [
        "model.summary()"
      ],
      "execution_count": null,
      "outputs": []
    },
    {
      "cell_type": "markdown",
      "metadata": {
        "id": "1wLJ1pOBX6LR"
      },
      "source": [
        "#### Entrenamiento del primer modelo y ajuste en los datos"
      ]
    },
    {
      "cell_type": "code",
      "metadata": {
        "id": "PA6TEu986Ygu"
      },
      "source": [
        "history=model.fit(x, y,\n",
        "                  batch_size=16,\n",
        "                  epochs=1000,\n",
        "                  verbose=0,\n",
        "                 )"
      ],
      "execution_count": null,
      "outputs": []
    },
    {
      "cell_type": "code",
      "metadata": {
        "id": "S6Uwe3TFp_Nj"
      },
      "source": [
        "model.evaluate(x,y,verbose=2)"
      ],
      "execution_count": null,
      "outputs": []
    },
    {
      "cell_type": "code",
      "metadata": {
        "id": "wEn_X6me7WAk"
      },
      "source": [
        "plt.scatter(x=x,y=y,marker='o')\n",
        "plt.plot(x,model.predict(x),c=\"black\")\n",
        "plt.title(\"Ajuste lineal para los datos simulados\")\n",
        "plt.xlabel(\"x\")\n",
        "plt.ylabel(\"y\")\n",
        "plt.show()\n"
      ],
      "execution_count": null,
      "outputs": []
    },
    {
      "cell_type": "markdown",
      "metadata": {
        "id": "VecFAnREYmgE"
      },
      "source": [
        "Como se puede observar, el modelo lineal **no logra ajustar adecuadamente** los datos. Esto no es sorprendente, ya que no se utilizaron capas ocultas, y sin ellas no es posible modelar dependencias no lineales.\n"
      ]
    },
    {
      "cell_type": "code",
      "metadata": {
        "id": "MEvekMk07r2N"
      },
      "source": [
        "# obtener pendiente e itercepto\n",
        "model.get_weights()"
      ],
      "execution_count": null,
      "outputs": []
    },
    {
      "cell_type": "markdown",
      "metadata": {
        "id": "9WSjj0wMZNpr"
      },
      "source": [
        "## Segundo modelo: Red neuronal para un modelo de regresión no lineal\n",
        "\n",
        "Ahora se usará una red neuronal con tres capas ocultas y un nodo de salida para ajustar un modelo de regresión lineal, donde el parámetro de la media de la CPD puede depender no linealmente de `x`. Dado que la varianza no es modelada, la función de pérdida o NLL está dada por el error cuadrático medio (MSE) (ver deducción en la sección 4.3).\n"
      ]
    },
    {
      "cell_type": "markdown",
      "metadata": {
        "id": "MgfvrV6tKVit"
      },
      "source": [
        "##### Red neuronal totalmente conectada con 3 capas ocultas para modelar relaciones no lineales utilizando la función de pérdida MSE\n"
      ]
    },
    {
      "cell_type": "code",
      "metadata": {
        "id": "9guOp97S8DMh"
      },
      "source": [
        "# Configuración de una red neuronal con 3 capas ocultas y un solo nodo de salida\n",
        "# Esto permite que la media de la CPD dependa no linealmente de x\n",
        "# y que la desviación estándar de la CPD sea constante y no sea modelada\n",
        "\n",
        "model = Sequential()\n",
        "model.add(Dense(20, activation='relu',\n",
        "                batch_input_shape=(None, 1)))\n",
        "model.add(Dense(50, activation='relu'))\n",
        "model.add(Dense(20, activation='relu'))\n",
        "model.add(Dense(1, activation='linear'))\n",
        "model.compile(loss='mean_squared_error',optimizer=\"adam\")"
      ],
      "execution_count": null,
      "outputs": []
    },
    {
      "cell_type": "code",
      "metadata": {
        "id": "QN6TSCBW8DcA"
      },
      "source": [
        "model.summary()"
      ],
      "execution_count": null,
      "outputs": []
    },
    {
      "cell_type": "markdown",
      "metadata": {
        "id": "N2QsMX3KaYG7"
      },
      "source": [
        "#### Entrenamiento del segundo modelo y ajuste en los datos"
      ]
    },
    {
      "cell_type": "code",
      "metadata": {
        "id": "LmmiZLCj8DtK"
      },
      "source": [
        "# train the model\n",
        "history=model.fit(x, y,\n",
        "                  batch_size=16,\n",
        "                  epochs=1000,\n",
        "                  verbose=0,\n",
        "                 )"
      ],
      "execution_count": null,
      "outputs": []
    },
    {
      "cell_type": "code",
      "metadata": {
        "id": "uX1r601-p6f2"
      },
      "source": [
        "# Evaluación de la función de pérdida MSE\n",
        "model.evaluate(x,y,verbose=2)"
      ],
      "execution_count": null,
      "outputs": []
    },
    {
      "cell_type": "code",
      "metadata": {
        "id": "oI7-u6j48D8n"
      },
      "source": [
        "plt.scatter(x=x,y=y,marker='o')\n",
        "plt.plot(np.linspace(-3,3*2*np.pi+3,1000),model.predict(np.linspace(-3,3*2*np.pi+3,1000)),c=\"black\")\n",
        "plt.title(\"simulated data\")\n",
        "plt.xlabel(\"x\")\n",
        "plt.ylabel(\"y\")\n",
        "plt.show()"
      ],
      "execution_count": null,
      "outputs": []
    },
    {
      "cell_type": "markdown",
      "metadata": {
        "id": "bPAyQ0HqZM5Z"
      },
      "source": [
        "Como se puede observar ahora, la red neuronal con capas ocultas logra ajustar adecuadamente los datos. A continuación, se intentará capturar también la varianza de los datos.\n"
      ]
    },
    {
      "cell_type": "markdown",
      "metadata": {
        "id": "y39UmM6LalEe"
      },
      "source": [
        "## Tercer modelo: Red neuronal para un modelo de regresión no lineal con varianza cambiante\n",
        "\n",
        "Ahora se utilizará una red neuronal nuevamente con tres capas ocultas, pero esta vez con dos nodos de salida, para ajustar un modelo de regresión lineal donde los parámetros de la media $\\mu$ y la desviación estándar $\\sigma$ de la CPD pueden depender no linealmente de `x`. Dado que ahora también se modela la varianza, la función de pérdida, que corresponde a la NLL, ya no está dada por el MSE, sino que tiene una forma más compleja (ver deducción en la sección 4.3). Keras no proporciona esta función de pérdida, por lo que será necesario definirla manualmente.\n"
      ]
    },
    {
      "cell_type": "markdown",
      "metadata": {
        "id": "tNJNJQaBKh_O"
      },
      "source": [
        "#### Red neuronal totalmente conectada con capas ocultas, dos nodos de salida y una función de pérdida personalizada para ajustar un modelo de regresión no lineal heterocedástico\n",
        "                                                                                                                                  \n"
      ]
    },
    {
      "cell_type": "code",
      "metadata": {
        "id": "gKrhyfmrixFJ"
      },
      "source": [
        "# definir la función de pérdida que corresponde a la NNL\n",
        "import math\n",
        "def my_NLL_loss(y_true,y_pred):\n",
        "  mu=tf.slice(y_pred,[0,0],[-1,1])              # A\n",
        "  sigma=tf.math.exp(tf.slice(y_pred,[0,1],[-1,1]))   # B\n",
        "\n",
        "  a=1/(tf.sqrt(2.*math.pi)*sigma)\n",
        "  b1=tf.square(mu-y_true)\n",
        "  b2=2*tf.square(sigma)\n",
        "  b=b1/b2\n",
        "\n",
        "  loss = tf.reduce_sum(-tf.math.log(a)+b,axis=0)\n",
        "  return loss\n",
        "\n",
        "# A extraer la primera columna para μ\n",
        "# B extraer la segunda columna para σ"
      ],
      "execution_count": null,
      "outputs": []
    },
    {
      "cell_type": "code",
      "metadata": {
        "id": "FNHZjqymi8zQ"
      },
      "source": [
        "# Configuración del modelo con 3 capas ocultas y 2 nodos de salida\n",
        "# Esto permite que la media de la CPD dependa no linealmente de x\n",
        "# y que también la desviación estándar pueda depender no linealmente de x\n",
        "\n",
        "model =  Sequential()\n",
        "model.add(Dense(20, activation='relu',batch_input_shape=(None, 1)))\n",
        "model.add(Dense(50, activation='relu'))\n",
        "model.add(Dense(20, activation='relu'))\n",
        "model.add(Dense(2, activation='linear'))\n",
        "\n",
        "model.compile(loss=my_NLL_loss,optimizer=\"adam\",metrics=[my_NLL_loss])\n"
      ],
      "execution_count": null,
      "outputs": []
    },
    {
      "cell_type": "code",
      "metadata": {
        "id": "-j8G3tED1ZYb"
      },
      "source": [
        "model.summary()"
      ],
      "execution_count": null,
      "outputs": []
    },
    {
      "cell_type": "markdown",
      "metadata": {
        "id": "8ipJu4s-b4Da"
      },
      "source": [
        "#### Entrenamiento del tercer modelo y ajuste de los datos"
      ]
    },
    {
      "cell_type": "code",
      "metadata": {
        "id": "ESN3m60ljT3w"
      },
      "source": [
        "history=model.fit(x, y,\n",
        "                  batch_size=16,\n",
        "                  epochs=1000,\n",
        "                  verbose=0\n",
        "                 )"
      ],
      "execution_count": null,
      "outputs": []
    },
    {
      "cell_type": "code",
      "source": [
        "x_pred=np.linspace(-3,3*2*np.pi+3,1000).reshape(1000,1)\n",
        "pred_mu=model.predict(np.linspace(-3,3*2*np.pi+3,1000).reshape(1000,1))[:,0]"
      ],
      "metadata": {
        "id": "QtzrtpQQr17l"
      },
      "execution_count": null,
      "outputs": []
    },
    {
      "cell_type": "code",
      "source": [
        "pred_log_sigma=model.predict(np.linspace(-3,3*2*np.pi+3,1000).reshape(1000,1))[:,1]"
      ],
      "metadata": {
        "id": "kwoLMU_6sBY8",
        "outputId": "70c89d48-31d7-42c1-e0de-80fb46e30605",
        "colab": {
          "base_uri": "https://localhost:8080/"
        }
      },
      "execution_count": null,
      "outputs": [
        {
          "output_type": "stream",
          "name": "stdout",
          "text": [
            "32/32 [==============================] - 0s 1ms/step\n"
          ]
        }
      ]
    },
    {
      "cell_type": "code",
      "metadata": {
        "id": "STvM2fP91Czs"
      },
      "source": [
        "# Mostrar los datos junto con el ajuste más/menos 2 veces la desviación estándar\n",
        "\n",
        "plt.scatter(x,y,marker='o')\n",
        "plt.plot(x_pred,pred_mu,c=\"black\")\n",
        "\n",
        "pred_1_sd_p = pred_mu+(np.exp(pred_log_sigma))\n",
        "pred_1_sd_m = pred_mu-(np.exp(pred_log_sigma))\n",
        "\n",
        "plt.plot(x_pred,pred_1_sd_p, 'b', linewidth=0.5)\n",
        "plt.plot(x_pred,pred_1_sd_m, 'b', linewidth=0.5)\n",
        "\n",
        "pred_2_sd_p = pred_mu+2*(np.exp(pred_log_sigma))\n",
        "pred_2_sd_m = pred_mu-2*(np.exp(pred_log_sigma))\n",
        "\n",
        "plt.plot(x_pred,pred_2_sd_p, 'b', linewidth=0.5)\n",
        "plt.plot(x_pred,pred_2_sd_m, 'b', linewidth=0.5)\n",
        "\n",
        "plt.plot(x_pred,pred_mu+2*(np.exp(pred_log_sigma)), 'b', linewidth=0.5)\n",
        "plt.plot(x_pred,pred_mu-2*(np.exp(pred_log_sigma)), 'b', linewidth=0.5)\n",
        "\n",
        "plt.fill(np.concatenate([x_pred, x_pred[::-1]]),\n",
        "         np.concatenate([pred_2_sd_p,\n",
        "                         pred_2_sd_m[::-1]]),alpha=0.3, fc='lightskyblue', ec='None')\n",
        "plt.fill(np.concatenate([x_pred, x_pred[::-1]]),\n",
        "         np.concatenate([pred_1_sd_p,\n",
        "                         pred_1_sd_m[::-1]]),alpha=0.3, fc='deepskyblue', ec='None')\n",
        "plt.title(\"datos simulados\")\n",
        "plt.xlabel(\"x\")\n",
        "plt.ylabel(\"y\")\n",
        "plt.show()"
      ],
      "execution_count": null,
      "outputs": []
    },
    {
      "cell_type": "markdown",
      "metadata": {
        "id": "FbOxrRXAcQOh"
      },
      "source": [
        "### Suavidad del ajuste en función de la función de activación\n",
        "\n",
        "<img src=\"https://raw.githubusercontent.com/tensorchiefs/dl_book/master/imgs/paper-pen.png\" width=\"60\" align=\"left\" />  \n",
        "\n",
        "**Ejercicio 1:** Cambia las funciones de activación en la última red neuronal de `relu` a `sigmoid` y repite el análisis. ¿Qué observas?\n",
        "\n",
        "\n",
        "<br>\n",
        "<br>\n",
        "<br>\n",
        "<br>\n",
        "<br>\n",
        "<br>\n",
        "<br>\n",
        "<br>\n",
        "<br>\n",
        "<br>\n",
        "<br>\n",
        "<br>\n",
        "<br>\n",
        "<br>\n",
        "<br>\n",
        "<br>\n",
        "<br>\n",
        "<br>\n",
        "<br>\n",
        "<br>\n",
        "<br>\n",
        "<br>\n",
        "<br>\n",
        "<br>\n",
        "<br>\n",
        "<br>\n",
        "<br>\n",
        "<br>\n",
        "<br>\n",
        "<br>\n",
        "<br>\n",
        "<br>\n",
        "<br>\n",
        "<br>\n",
        "<br>\n",
        "<br>\n",
        "<br>\n",
        "<br>\n",
        "<br>\n",
        "<br>\n",
        "<br>\n",
        "<br>\n",
        "<br>\n",
        "<br>\n",
        "<br>\n",
        "<br>\n",
        "<br>\n",
        "<br>\n",
        "<br>\n",
        "<br>\n",
        "\n"
      ]
    },
    {
      "cell_type": "code",
      "metadata": {
        "id": "d2vxdCRSyOaz"
      },
      "source": [],
      "execution_count": null,
      "outputs": []
    },
    {
      "cell_type": "markdown",
      "metadata": {
        "id": "GJMiyTTWyQka"
      },
      "source": [
        "</br>\n",
        "</br>\n",
        "</br>\n",
        "</br>\n",
        "</br>\n",
        "</br>\n",
        "</br>\n",
        "</br>\n",
        "</br>\n",
        "</br>\n",
        "</br>\n",
        "</br>\n",
        "</br>\n",
        "</br>\n",
        "</br>\n",
        "</br>\n",
        "</br>\n",
        "</br>\n",
        "</br>\n",
        "</br>\n",
        "</br>\n",
        "</br>\n",
        "</br>\n",
        "</br>\n",
        "</br>\n",
        "</br>\n",
        "</br>\n",
        "</br>\n",
        "</br>\n",
        "</br>\n",
        "</br>\n",
        "</br>"
      ]
    },
    {
      "cell_type": "code",
      "source": [],
      "metadata": {
        "id": "XWYUmxxPwJO0"
      },
      "execution_count": null,
      "outputs": []
    },
    {
      "cell_type": "code",
      "metadata": {
        "id": "uaCkR7N_zxY-"
      },
      "source": [
        "# set up the model with3  hidden layers and 2 output nodes\n",
        "# This allows that the mean of the CPD depends non-linearly on x\n",
        "# and also the standard deviation can depend non-linearly on x\n",
        "model =  Sequential()\n",
        "model.add(Dense(20, activation='sigmoid',batch_input_shape=(None, 1)))\n",
        "model.add(Dense(50, activation='sigmoid'))\n",
        "model.add(Dense(20, activation='sigmoid'))\n",
        "model.add(Dense(2, activation='linear'))\n",
        "\n",
        "model.compile(loss=my_NLL_loss,optimizer=\"adam\",metrics=[my_NLL_loss])"
      ],
      "execution_count": null,
      "outputs": []
    },
    {
      "cell_type": "code",
      "metadata": {
        "id": "CqQs55CwzxZA",
        "colab": {
          "base_uri": "https://localhost:8080/",
          "height": 289
        },
        "outputId": "4223e1fb-8a23-43d2-aedf-8baac18a357a"
      },
      "source": [
        "# summarize model along with number of model weights\n",
        "model.summary()"
      ],
      "execution_count": null,
      "outputs": [
        {
          "output_type": "stream",
          "text": [
            "Model: \"sequential_4\"\n",
            "_________________________________________________________________\n",
            "Layer (type)                 Output Shape              Param #   \n",
            "=================================================================\n",
            "dense_13 (Dense)             (None, 20)                40        \n",
            "_________________________________________________________________\n",
            "dense_14 (Dense)             (None, 50)                1050      \n",
            "_________________________________________________________________\n",
            "dense_15 (Dense)             (None, 20)                1020      \n",
            "_________________________________________________________________\n",
            "dense_16 (Dense)             (None, 2)                 42        \n",
            "=================================================================\n",
            "Total params: 2,152\n",
            "Trainable params: 2,152\n",
            "Non-trainable params: 0\n",
            "_________________________________________________________________\n"
          ],
          "name": "stdout"
        }
      ]
    },
    {
      "cell_type": "code",
      "metadata": {
        "id": "xORtqGr4zxZF"
      },
      "source": [
        "# train the model\n",
        "history=model.fit(x, y,\n",
        "                  batch_size=16,\n",
        "                  epochs=1500,\n",
        "                  verbose=0\n",
        "                 )"
      ],
      "execution_count": null,
      "outputs": []
    },
    {
      "cell_type": "code",
      "metadata": {
        "id": "e1FWp1LYzxZH",
        "colab": {
          "base_uri": "https://localhost:8080/",
          "height": 472
        },
        "outputId": "21b74a30-5841-49ef-e07b-9c2de12e2b30"
      },
      "source": [
        "# show the data along with the fit plus/minus 2-times the standard deviation\n",
        "x_pred=np.linspace(-3,3*2*np.pi+3,1000).reshape(1000,1)\n",
        "pred_mu=model.predict(np.linspace(-3,3*2*np.pi+3,1000).reshape(1000,1))[:,0]\n",
        "pred_log_sigma=model.predict(np.linspace(-3,3*2*np.pi+3,1000).reshape(1000,1))[:,1]\n",
        "plt.scatter(x,y,marker='o')\n",
        "plt.plot(x_pred,pred_mu,c=\"black\")\n",
        "\n",
        "pred_1_sd_p = pred_mu+(np.exp(pred_log_sigma))\n",
        "pred_1_sd_m = pred_mu-(np.exp(pred_log_sigma))\n",
        "\n",
        "plt.plot(x_pred,pred_1_sd_p, 'b', linewidth=0.5)\n",
        "plt.plot(x_pred,pred_1_sd_m, 'b', linewidth=0.5)\n",
        "\n",
        "pred_2_sd_p = pred_mu+2*(np.exp(pred_log_sigma))\n",
        "pred_2_sd_m = pred_mu-2*(np.exp(pred_log_sigma))\n",
        "\n",
        "plt.plot(x_pred,pred_2_sd_p, 'b', linewidth=0.5)\n",
        "plt.plot(x_pred,pred_2_sd_m, 'b', linewidth=0.5)\n",
        "\n",
        "plt.plot(x_pred,pred_mu+2*(np.exp(pred_log_sigma)), 'b', linewidth=0.5)\n",
        "plt.plot(x_pred,pred_mu-2*(np.exp(pred_log_sigma)), 'b', linewidth=0.5)\n",
        "\n",
        "plt.fill(np.concatenate([x_pred, x_pred[::-1]]),\n",
        "         np.concatenate([pred_2_sd_p,\n",
        "                         pred_2_sd_m[::-1]]),alpha=0.3, fc='lightskyblue', ec='None')\n",
        "plt.fill(np.concatenate([x_pred, x_pred[::-1]]),\n",
        "         np.concatenate([pred_1_sd_p,\n",
        "                         pred_1_sd_m[::-1]]),alpha=0.3, fc='deepskyblue', ec='None')\n",
        "plt.title(\"simulated data\")\n",
        "plt.xlabel(\"x\")\n",
        "plt.ylabel(\"y\")\n",
        "plt.show()"
      ],
      "execution_count": null,
      "outputs": [
        {
          "output_type": "display_data",
          "data": {
            "image/png": "[encoded data removed]",
            "text/plain": [
              "<Figure size 640x480 with 1 Axes>"
            ]
          },
          "metadata": {
            "tags": []
          }
        }
      ]
    },
    {
      "cell_type": "markdown",
      "metadata": {
        "id": "dMsTaVhvHqNb"
      },
      "source": [
        "\n",
        "#### Solution\n",
        "When using sigmoid as activation function you get a different result: The curves for the fit (mean) and also the curves for the reference interval (mean plus/minus 2-times stddev) now apprear much smoother. This effect is probably due to the fact that relus are not smooth and if you change the input to a ReLU from negative to small positive, it gets activated and contributes to the output. We also observe that we need to train for more epochs with sigmoids than with relus, this is due the smaller gradients and updatesteps that backpropagate with the sigmoid activation."
      ]
    }
  ]
}