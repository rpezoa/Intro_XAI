{
 "cells": [
  {
   "cell_type": "markdown",
   "id": "bb9ffee8",
   "metadata": {},
   "source": [
    "# Clasificación de imágenes y explicación con LIME\n",
    "***\n",
    "* LIME permite identificar los superpixels de la imagen que contribuyen positiva o negativamente en las predicciones generadas por el clasificador\n",
    "* Ejemplo basado en [Tutorial LIME: Tutorial - Image Classification Keras.ipynb](https://github.com/marcotcr/lime/blob/master/doc/notebooks/Tutorial%20-%20Image%20Classification%20Keras.ipynb)"
   ]
  },
  {
   "cell_type": "markdown",
   "id": "bea49707",
   "metadata": {},
   "source": [
    "## Bibliotecas"
   ]
  },
  {
   "cell_type": "code",
   "execution_count": null,
   "id": "b02376d1",
   "metadata": {},
   "outputs": [],
   "source": [
    "import os\n",
    "import keras\n",
    "from keras.applications import inception_v3 as inc_net\n",
    "#from keras.preprocessing import image\n",
    "import keras.utils as image\n",
    "from keras.applications.imagenet_utils import decode_predictions\n",
    "from skimage.io import imread\n",
    "import matplotlib.pyplot as plt\n",
    "%matplotlib inline\n",
    "import numpy as np\n",
    "print('Notebook run using keras:', keras.__version__)"
   ]
  },
  {
   "cell_type": "markdown",
   "id": "fec08173",
   "metadata": {},
   "source": [
    "## Uso de Inception V3\n",
    "***\n",
    "* El modelo InceptionV3 preentrenado está disponible en Keras y es usado para clasificación de imágenes y tiene un desempeño de  78,1% de accuracy en el conjunto de datos de ImageNet.\n",
    "* Para revisar la arquitectura CNN Inceptión, revisar [acá](https://arxiv.org/abs/1512.00567v3)\n",
    "* La documentación del módulo inception_v3 de Keras, en este [link](https://keras.io/api/applications/inceptionv3/)\n",
    "* El diagrama de la arquitectura [acá](https://paperswithcode.com/method/inception-v3)"
   ]
  },
  {
   "cell_type": "code",
   "execution_count": null,
   "id": "c4b3c223",
   "metadata": {},
   "outputs": [],
   "source": [
    "inet_model = inc_net.InceptionV3()"
   ]
  },
  {
   "cell_type": "markdown",
   "id": "5d60f2bc",
   "metadata": {},
   "source": [
    "* Transformación de la imagen al formato y dimensión requeridas"
   ]
  },
  {
   "cell_type": "code",
   "execution_count": null,
   "id": "9afc0f49",
   "metadata": {},
   "outputs": [],
   "source": [
    "def transform_img_fn(path_list):\n",
    "    out = []\n",
    "    for img_path in path_list:\n",
    "        img = image.load_img(img_path, target_size=(299, 299))\n",
    "        x = image.img_to_array(img)\n",
    "        x = np.expand_dims(x, axis=0)\n",
    "        x = inc_net.preprocess_input(x)\n",
    "        out.append(x)\n",
    "    return np.vstack(out)"
   ]
  },
  {
   "cell_type": "code",
   "execution_count": null,
   "id": "d54fb86b",
   "metadata": {
    "scrolled": true
   },
   "outputs": [],
   "source": [
    "images = transform_img_fn([os.path.join('data','anemone.jpg')])\n",
    "plt.figure()\n",
    "plt.imshow(images[0] / 2 + 0.5)\n",
    "#plt.imshow(images[0])\n",
    "plt.show()\n"
   ]
  },
  {
   "cell_type": "markdown",
   "id": "416efac9",
   "metadata": {},
   "source": [
    "## Predicción en la imagen de prueba"
   ]
  },
  {
   "cell_type": "code",
   "execution_count": null,
   "id": "35082803",
   "metadata": {},
   "outputs": [],
   "source": [
    "preds = inet_model.predict(images) # vector de tamaño 1000"
   ]
  },
  {
   "cell_type": "markdown",
   "id": "8f32b1c1",
   "metadata": {},
   "source": [
    "Se muestran los primeros 6 puntajes de clasificación, y se observa que \"anemone fish\" es la primera predicción para la imagen, con un puntaje de 0.71"
   ]
  },
  {
   "cell_type": "code",
   "execution_count": null,
   "id": "f9dfa5c8",
   "metadata": {},
   "outputs": [],
   "source": [
    "for x in decode_predictions(preds,top=6)[0]:\n",
    "    print(\"Predicción clase: \",x[1], \"con puntaje: \",x[2])"
   ]
  },
  {
   "cell_type": "code",
   "execution_count": null,
   "id": "92bf9e88",
   "metadata": {},
   "outputs": [],
   "source": [
    "%load_ext autoreload\n",
    "%autoreload 2\n",
    "import os,sys\n",
    "try:\n",
    "    import lime\n",
    "except:\n",
    "    sys.path.append(os.path.join('..', '..')) \n",
    "    import lime\n",
    "from lime import lime_image"
   ]
  },
  {
   "cell_type": "markdown",
   "id": "414185a9",
   "metadata": {},
   "source": [
    "## Explicación usando LimeImageExplainer()\n",
    "***\n",
    "[Documentación](https://lime-ml.readthedocs.io/en/latest/lime.html?highlight=submodular_pick#module-lime.lime_image) de lime_image."
   ]
  },
  {
   "cell_type": "code",
   "execution_count": null,
   "id": "a2f8fbda",
   "metadata": {},
   "outputs": [],
   "source": [
    "explainer = lime_image.LimeImageExplainer()"
   ]
  },
  {
   "cell_type": "code",
   "execution_count": null,
   "id": "9d58fa88",
   "metadata": {
    "scrolled": false
   },
   "outputs": [],
   "source": [
    "%%time\n",
    "# Hide color is the color for a superpixel turned OFF. \n",
    "# Alternatively, if it is NONE, the superpixel will be replaced by the average of its pixels\n",
    "explanation = explainer.explain_instance(images[0].astype('double'), \n",
    "                                         inet_model.predict, \n",
    "                                         top_labels=6, \n",
    "                                         hide_color=0, \n",
    "                                         num_samples=1000)"
   ]
  },
  {
   "cell_type": "markdown",
   "id": "2e71730b",
   "metadata": {},
   "source": [
    "## Segmentos o superpíxeles generados"
   ]
  },
  {
   "cell_type": "code",
   "execution_count": null,
   "id": "f2e97a56",
   "metadata": {},
   "outputs": [],
   "source": [
    "explanation.segments.max()"
   ]
  },
  {
   "cell_type": "code",
   "execution_count": null,
   "id": "c956d35c",
   "metadata": {},
   "outputs": [],
   "source": [
    "explanation.segments"
   ]
  },
  {
   "cell_type": "code",
   "execution_count": null,
   "id": "b8193ad2",
   "metadata": {},
   "outputs": [],
   "source": [
    "plt.imshow(explanation.segments)\n",
    "plt.axis('off')\n",
    "plt.show()"
   ]
  },
  {
   "cell_type": "markdown",
   "id": "73c26a0e",
   "metadata": {},
   "source": [
    "## Visualización de los superpíxeles que contribuyen a la predicción\n",
    "***\n",
    "* Uso de módulo [scikit-image](https://scikit-image.org), el cual provee un gran número de algoritmos para procesamiento de imágenes"
   ]
  },
  {
   "cell_type": "code",
   "execution_count": null,
   "id": "97e8c53a",
   "metadata": {},
   "outputs": [],
   "source": [
    "from skimage.segmentation import mark_boundaries"
   ]
  },
  {
   "cell_type": "markdown",
   "id": "c007fe08",
   "metadata": {},
   "source": [
    "* Se genera una explicación usando la función get_image_and_mask, la cual recibe como parámetros:\n",
    " * label = la etiqueta de la clase que se quiere explicar\n",
    " * positive_only = True, para tomar superpixeles que solo contribuyen de manera positiva a la predicción\n",
    " * num_features = número de superpíxeles para incluir en la explicación\n",
    " * hide_rest = True, para dejar en color gris las regiones no explicadas"
   ]
  },
  {
   "cell_type": "markdown",
   "id": "6948a7d9",
   "metadata": {},
   "source": [
    "### Visualización de superpíxeles que contribuyen positivamente a la predicción de la clase indicada"
   ]
  },
  {
   "cell_type": "code",
   "execution_count": null,
   "id": "07887c0f",
   "metadata": {},
   "outputs": [],
   "source": [
    "for x in decode_predictions(preds,top=6)[0]:\n",
    "    print(\"Predicción clase: \",x[1], \"con puntaje: \",x[2])"
   ]
  },
  {
   "cell_type": "code",
   "execution_count": null,
   "id": "14bf240e",
   "metadata": {},
   "outputs": [],
   "source": [
    "#anemone_fish: pez de las anémonas o pez payaso\n",
    "#sea_anemone: anémona de mar\n",
    "#coral_reef: arrecife de coral\n",
    "#rock_beauty: Rock Beauty Fish\n",
    "#scuba_diver:buceador\n",
    "#sea_urchin: erizo de mar\n",
    "\n",
    "temp, mask = explanation.get_image_and_mask(label= explanation.top_labels[0], \n",
    "                                            positive_only=True, \n",
    "                                            num_features=5, \n",
    "                                            hide_rest=True)"
   ]
  },
  {
   "cell_type": "code",
   "execution_count": null,
   "id": "a3de7857",
   "metadata": {},
   "outputs": [],
   "source": [
    "plt.figure()\n",
    "plt.title(\"Explicación de 'pez payaso'\")\n",
    "plt.imshow(mark_boundaries(temp / 2 + 0.5, mask))\n",
    "plt.show()"
   ]
  },
  {
   "cell_type": "markdown",
   "id": "09260e81",
   "metadata": {},
   "source": [
    "### Visualización de la imagen completa, y segmentación de los superpíxeles que contribuyen positivamente a la predicción de la clase indicada\n",
    "* Acá no se ocultan los superpixeles que no contribuyen a la clasificación indicada"
   ]
  },
  {
   "cell_type": "code",
   "execution_count": null,
   "id": "1d504089",
   "metadata": {},
   "outputs": [],
   "source": [
    "temp, mask = explanation.get_image_and_mask(label = explanation.top_labels[0],\n",
    "                                            positive_only=True, \n",
    "                                            num_features=5, \n",
    "                                            hide_rest=False)"
   ]
  },
  {
   "cell_type": "code",
   "execution_count": null,
   "id": "36f2691f",
   "metadata": {},
   "outputs": [],
   "source": [
    "plt.figure()\n",
    "plt.imshow(mark_boundaries(temp / 2 + 0.5, mask))\n",
    "plt.show()"
   ]
  },
  {
   "cell_type": "markdown",
   "id": "3ca52f88",
   "metadata": {},
   "source": [
    "### Visualización de superpíxeles que contribuyen positivamente a la predicción de la clase indicada\n",
    "* Ahora consideramos un número mayor de superpíxeles para la explicación\n"
   ]
  },
  {
   "cell_type": "code",
   "execution_count": null,
   "id": "d3034868",
   "metadata": {},
   "outputs": [],
   "source": [
    "temp, mask = explanation.get_image_and_mask(explanation.top_labels[0], \n",
    "                                            positive_only=False,\n",
    "                                            num_features=10, \n",
    "                                            hide_rest=False)"
   ]
  },
  {
   "cell_type": "code",
   "execution_count": null,
   "id": "2558a1b3",
   "metadata": {},
   "outputs": [],
   "source": [
    "plt.figure()\n",
    "plt.imshow(mark_boundaries(temp / 2 + 0.5, mask))\n",
    "plt.show()"
   ]
  },
  {
   "cell_type": "markdown",
   "id": "ac43f377",
   "metadata": {},
   "source": [
    "### Visualización de los pesos en un mapa de calor\n",
    "***\n",
    "* explanation.local_exp es un diccionario de tamaño 6 (en este ejemplo), donde cada llave corresponde es una de las 6 clases, y su valor, es una lista que contiene los pesos de cada superpíxel."
   ]
  },
  {
   "cell_type": "code",
   "execution_count": null,
   "id": "58e9fcdd",
   "metadata": {},
   "outputs": [],
   "source": [
    "#Selección de la clase, acá tomamos la primera clase indicada por el inception_v3\n",
    "ind =  explanation.top_labels[0]\n",
    "\n",
    "#Se asocia cada peso de la explicación a su superpixel correspondiente\n",
    "dict_heatmap = dict(explanation.local_exp[ind])  # se toman los pesos de la clase ind\n",
    "heatmap = np.vectorize(dict_heatmap.get)(explanation.segments) # se genera mapa de calor"
   ]
  },
  {
   "cell_type": "code",
   "execution_count": null,
   "id": "c4fcb2dc",
   "metadata": {},
   "outputs": [],
   "source": [
    "plt.figure()\n",
    "plt.imshow(heatmap, cmap = 'RdBu', vmin  = -heatmap.max(), vmax = heatmap.max())\n",
    "plt.colorbar()\n",
    "plt.show()"
   ]
  },
  {
   "cell_type": "markdown",
   "id": "41e573d0",
   "metadata": {},
   "source": [
    "<div class=\"alert-success\">\n",
    "    <h2>Ejercicio 1</h2>\n",
    "    <hr>\n",
    "    <ul>\n",
    "        <li> Considere ahora la imagen que está en el siguiente <a href=\"https://drive.google.com/drive/folders/1RP9mYlGoEXCaR0XemMH5LwWue8_buPpF?usp=sharing\">link</a></li>\n",
    "        <li>Genere la clasificación usando la CNN Inception V3 y explique (de acuerdo a los ejemplos anteriores) las cuatro primeras clasificaciones entregadas por la CNN.</li>\n",
    "        <li>Analice la predicción genererada por el clasificador (puntaje/score) y las explicaciones para cada clase generada por LIME. Comente.</li>\n",
    "    </ul>\n",
    "</div>"
   ]
  },
  {
   "cell_type": "code",
   "execution_count": null,
   "id": "852e09b3",
   "metadata": {},
   "outputs": [],
   "source": []
  }
 ],
 "metadata": {
  "kernelspec": {
   "display_name": "Python 3 (ipykernel)",
   "language": "python",
   "name": "python3"
  },
  "language_info": {
   "codemirror_mode": {
    "name": "ipython",
    "version": 3
   },
   "file_extension": ".py",
   "mimetype": "text/x-python",
   "name": "python",
   "nbconvert_exporter": "python",
   "pygments_lexer": "ipython3",
   "version": "3.9.12"
  }
 },
 "nbformat": 4,
 "nbformat_minor": 5
}
