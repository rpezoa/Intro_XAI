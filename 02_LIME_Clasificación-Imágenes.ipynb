{
  "cells": [
    {
      "cell_type": "markdown",
      "id": "84aee4fe",
      "metadata": {
        "id": "84aee4fe"
      },
      "source": [
        "<center>\n",
        "    <h1> Clasificación de imágenes y explicación con LIME </h2>\n",
        "</center>"
      ]
    },
    {
      "cell_type": "markdown",
      "id": "1a51462c",
      "metadata": {
        "id": "1a51462c"
      },
      "source": [
        "## Contenidos\n",
        "\n",
        "* [Introducción](#Introducción)\n",
        "* [Bibliotecas](#Bibliotecas)\n",
        "* [Datos](#Datos)\n",
        "* [Modelo Caja Negra](#Modelo-Caja-Negra)\n",
        "* [LimeImageExplainer](#LimeImageExplainer)\n",
        "* [Ejercicio](#Ejercicio)"
      ]
    },
    {
      "cell_type": "markdown",
      "id": "6b046271",
      "metadata": {
        "id": "6b046271"
      },
      "source": [
        "## Introducción\n",
        "\n",
        "En el siguiente notebook, se ejemplifica el uso de [LIME](https://dl.acm.org/doi/abs/10.1145/2939672.2939778) para explicar localmente un modelo de red neuronal convolucional que clasifica imágenes.\n",
        "\n",
        "LIME aplicado a imágenes permite identificar los superpixeles que contribuyen de manera positiva o negativa a la clasificación de una imagen.\n",
        "\n",
        "Este notebook está inspirado en el siguiente [tutorial](https://github.com/marcotcr/lime/blob/master/doc/notebooks/Tutorial%20-%20Image%20Classification%20Keras.ipynb) de LIME."
      ]
    },
    {
      "cell_type": "markdown",
      "id": "bea49707",
      "metadata": {
        "id": "bea49707"
      },
      "source": [
        "## Bibliotecas"
      ]
    },
    {
      "cell_type": "code",
      "execution_count": 1,
      "id": "631411a3",
      "metadata": {
        "id": "631411a3"
      },
      "outputs": [],
      "source": [
        "%matplotlib inline\n",
        "%load_ext autoreload\n",
        "%autoreload 2"
      ]
    },
    {
      "cell_type": "code",
      "source": [
        "!pip install lime"
      ],
      "metadata": {
        "id": "Nd4nhnaCm40T"
      },
      "id": "Nd4nhnaCm40T",
      "execution_count": null,
      "outputs": []
    },
    {
      "cell_type": "code",
      "execution_count": 4,
      "id": "b02376d1",
      "metadata": {
        "id": "b02376d1"
      },
      "outputs": [],
      "source": [
        "import keras\n",
        "import numpy as np\n",
        "import keras.utils as image\n",
        "import matplotlib.pyplot as plt\n",
        "from lime import lime_image\n",
        "from skimage.segmentation import mark_boundaries\n",
        "from keras.applications.imagenet_utils import decode_predictions\n",
        "from keras.applications.inception_v3 import InceptionV3, preprocess_input"
      ]
    },
    {
      "cell_type": "code",
      "execution_count": 5,
      "id": "2e71864c",
      "metadata": {
        "id": "2e71864c",
        "outputId": "35c90d19-2ea4-4e13-d761-5c2296274d47",
        "colab": {
          "base_uri": "https://localhost:8080/",
          "height": 35
        }
      },
      "outputs": [
        {
          "output_type": "execute_result",
          "data": {
            "text/plain": [
              "'3.8.0'"
            ],
            "application/vnd.google.colaboratory.intrinsic+json": {
              "type": "string"
            }
          },
          "metadata": {},
          "execution_count": 5
        }
      ],
      "source": [
        "keras.__version__"
      ]
    },
    {
      "cell_type": "code",
      "execution_count": 6,
      "id": "5abf828c",
      "metadata": {
        "id": "5abf828c"
      },
      "outputs": [],
      "source": [
        "!export KERAS_BACKEND=\"tensorflow\""
      ]
    },
    {
      "cell_type": "markdown",
      "id": "38cf7b40",
      "metadata": {
        "id": "38cf7b40"
      },
      "source": [
        "## Datos\n",
        "\n",
        "La imagen de prueba se puede descargar:"
      ]
    },
    {
      "cell_type": "code",
      "execution_count": null,
      "id": "abf45939",
      "metadata": {
        "id": "abf45939"
      },
      "outputs": [],
      "source": [
        "!gdown https://drive.google.com/uc?id=1CdgfIKNLbHtasxiwsHdj4mLeZ6wBn3Td"
      ]
    },
    {
      "cell_type": "markdown",
      "id": "fec08173",
      "metadata": {
        "id": "fec08173"
      },
      "source": [
        "## Modelo Caja Negra\n",
        "\n",
        "El modelo de caja negra a explicar es una red neuronal convolucional, *Convolutional Neural Network* (CNN) en inglés."
      ]
    },
    {
      "cell_type": "markdown",
      "id": "b4f96205",
      "metadata": {
        "id": "b4f96205"
      },
      "source": [
        "### Arquitectura\n",
        "\n",
        "La CNN en cuestión es [InceptionV3](https://arxiv.org/abs/1512.00567v3): un modelo preentrenado en [ImageNet](https://paperswithcode.com/dataset/imagenet) para clasificación de imágenes y disponible en [Keras](https://keras.io/api/applications/inceptionv3/).\n",
        "\n",
        "En el siguiente [enlace](https://paperswithcode.com/method/inception-v3) se puede visualizar la arquitectura de InceptionV3."
      ]
    },
    {
      "cell_type": "code",
      "execution_count": null,
      "id": "c4b3c223",
      "metadata": {
        "id": "c4b3c223"
      },
      "outputs": [],
      "source": [
        "model = InceptionV3()"
      ]
    },
    {
      "cell_type": "code",
      "execution_count": null,
      "id": "24e38b57",
      "metadata": {
        "id": "24e38b57"
      },
      "outputs": [],
      "source": [
        "# model.summary()"
      ]
    },
    {
      "cell_type": "markdown",
      "id": "cb301916",
      "metadata": {
        "id": "cb301916"
      },
      "source": [
        "### Preprocesamiento\n",
        "\n",
        "Es necesario ajustar las dimensiones de la imagen de entrada a 299x299x3, ya que InceptionV3 fue entrenado con imágenes de este tamaño."
      ]
    },
    {
      "cell_type": "code",
      "execution_count": 8,
      "id": "9afc0f49",
      "metadata": {
        "id": "9afc0f49"
      },
      "outputs": [],
      "source": [
        "def transform_images(path_list):\n",
        "    transformed_images = []\n",
        "    for img_path in path_list:\n",
        "        img = image.load_img(img_path, target_size=(299, 299))\n",
        "        img_array = image.img_to_array(img)\n",
        "        img_array_expanded = np.expand_dims(img_array, axis=0)\n",
        "        preprocessed_img = preprocess_input(img_array_expanded)\n",
        "        transformed_images.append(preprocessed_img)\n",
        "    return np.vstack(transformed_images)"
      ]
    },
    {
      "cell_type": "code",
      "execution_count": null,
      "id": "d54fb86b",
      "metadata": {
        "scrolled": true,
        "id": "d54fb86b"
      },
      "outputs": [],
      "source": [
        "path_to_image = \"anemone.jpg\"\n",
        "images = transform_images([path_to_image])\n",
        "plt.figure()\n",
        "plt.imshow(images[0] / 2 + 0.5)\n",
        "plt.show()"
      ]
    },
    {
      "cell_type": "markdown",
      "id": "416efac9",
      "metadata": {
        "id": "416efac9"
      },
      "source": [
        "### Predicción en la imagen de prueba"
      ]
    },
    {
      "cell_type": "code",
      "execution_count": null,
      "id": "35082803",
      "metadata": {
        "id": "35082803"
      },
      "outputs": [],
      "source": [
        "y_pred = model.predict(images)\n",
        "y_pred.shape"
      ]
    },
    {
      "cell_type": "code",
      "execution_count": null,
      "id": "f9dfa5c8",
      "metadata": {
        "id": "f9dfa5c8"
      },
      "outputs": [],
      "source": [
        "#anemone_fish: pez de las anémonas o pez payaso\n",
        "#sea_anemone:  anémona de mar\n",
        "#coral_reef:   arrecife de coral\n",
        "#rock_beauty:  Rock Beauty Fish\n",
        "#scuba_diver:  buceador\n",
        "#sea_urchin:   erizo de mar\n",
        "\n",
        "for x in decode_predictions(y_pred, top=6)[0]:\n",
        "    print(f\"Clase: {x[1]:<12} - Probabilidad: {x[2]:.2f}\")"
      ]
    },
    {
      "cell_type": "markdown",
      "id": "414185a9",
      "metadata": {
        "id": "414185a9"
      },
      "source": [
        "## LimeImageExplainer\n",
        "\n",
        "En la siguiente [documentación](https://lime-ml.readthedocs.io/en/latest/lime.html?highlight=submodular_pick#module-lime.lime_image) se detallan las clases y métodos utilizados a continuación.\n"
      ]
    },
    {
      "cell_type": "code",
      "execution_count": null,
      "id": "7dd8e1a1",
      "metadata": {
        "id": "7dd8e1a1"
      },
      "outputs": [],
      "source": [
        "explainer = lime_image.LimeImageExplainer()"
      ]
    },
    {
      "cell_type": "code",
      "execution_count": null,
      "id": "a2f8fbda",
      "metadata": {
        "id": "a2f8fbda"
      },
      "outputs": [],
      "source": [
        "explanation = explainer.explain_instance(\n",
        "    images[0],\n",
        "    model,\n",
        "    top_labels=6,\n",
        "    hide_color=0,\n",
        "    num_samples=1000,\n",
        ")"
      ]
    },
    {
      "cell_type": "markdown",
      "id": "2e71730b",
      "metadata": {
        "id": "2e71730b"
      },
      "source": [
        "### Superpixeles generados"
      ]
    },
    {
      "cell_type": "code",
      "execution_count": null,
      "id": "f2e97a56",
      "metadata": {
        "id": "f2e97a56"
      },
      "outputs": [],
      "source": [
        "explanation.segments.max()"
      ]
    },
    {
      "cell_type": "code",
      "execution_count": null,
      "id": "c956d35c",
      "metadata": {
        "id": "c956d35c"
      },
      "outputs": [],
      "source": [
        "explanation.segments"
      ]
    },
    {
      "cell_type": "code",
      "execution_count": null,
      "id": "b8193ad2",
      "metadata": {
        "id": "b8193ad2"
      },
      "outputs": [],
      "source": [
        "plt.imshow(explanation.segments)\n",
        "plt.axis('off')\n",
        "plt.show()"
      ]
    },
    {
      "cell_type": "markdown",
      "id": "6948a7d9",
      "metadata": {
        "id": "6948a7d9"
      },
      "source": [
        "### Superpixeles que contribuyen positivamente a la predicción de la clase indicada"
      ]
    },
    {
      "cell_type": "code",
      "execution_count": null,
      "id": "14bf240e",
      "metadata": {
        "id": "14bf240e"
      },
      "outputs": [],
      "source": [
        "temp, mask = explanation.get_image_and_mask(\n",
        "    label=explanation.top_labels[0],\n",
        "    positive_only=True,\n",
        "    num_features=5,\n",
        "    hide_rest=True,\n",
        ")\n",
        "\n",
        "plt.figure()\n",
        "plt.title(\"Explicación de 'pez payaso'\")\n",
        "plt.imshow(mark_boundaries(temp / 2 + 0.5, mask))\n",
        "plt.show()"
      ]
    },
    {
      "cell_type": "code",
      "execution_count": null,
      "id": "0c6a055d",
      "metadata": {
        "id": "0c6a055d"
      },
      "outputs": [],
      "source": [
        "temp, mask = explanation.get_image_and_mask(\n",
        "    explanation.top_labels[0],\n",
        "    positive_only=False,\n",
        "    num_features=10,\n",
        "    hide_rest=False,\n",
        ")\n",
        "plt.figure()\n",
        "plt.title(\"Explicación de 'pez payaso'\")\n",
        "plt.imshow(mark_boundaries(temp / 2 + 0.5, mask))\n",
        "plt.show()"
      ]
    },
    {
      "cell_type": "markdown",
      "id": "09260e81",
      "metadata": {
        "id": "09260e81"
      },
      "source": [
        "### Segmentación de los superpixeles que contribuyen positivamente a la predicción de la clase indicada"
      ]
    },
    {
      "cell_type": "code",
      "execution_count": null,
      "id": "1d504089",
      "metadata": {
        "id": "1d504089"
      },
      "outputs": [],
      "source": [
        "temp, mask = explanation.get_image_and_mask(\n",
        "    label=explanation.top_labels[0], positive_only=True, num_features=5, hide_rest=False\n",
        ")\n",
        "\n",
        "plt.figure()\n",
        "plt.title(\"Explicación de 'pez payaso'\")\n",
        "plt.imshow(mark_boundaries(temp / 2 + 0.5, mask))\n",
        "plt.show()"
      ]
    },
    {
      "cell_type": "markdown",
      "id": "ac43f377",
      "metadata": {
        "id": "ac43f377"
      },
      "source": [
        "### Visualización de los pesos en un mapa de calor\n",
        "\n",
        "Para esta explicación, ``explanation.local_exp`` es un diccionario de tamaño 6. Cada clave corresponde a una de las 6 clases, y su valor es una lista que contiene los pesos de cada superpíxel."
      ]
    },
    {
      "cell_type": "code",
      "execution_count": null,
      "id": "c4fcb2dc",
      "metadata": {
        "id": "c4fcb2dc"
      },
      "outputs": [],
      "source": [
        "# Seleccionar el índice de la clase más probable\n",
        "top_class_index = explanation.top_labels[0]\n",
        "\n",
        "# Extraer los pesos asociados a cada superpixel de la explicación\n",
        "class_weights = explanation.local_exp[top_class_index]\n",
        "\n",
        "# Crear un diccionario que mapea los superpixeles a sus pesos\n",
        "superpixel_weights = dict(class_weights)\n",
        "\n",
        "# Mapear los pesos a los superpixeles para generar un mapa de calor\n",
        "heatmap = np.vectorize(superpixel_weights.get)(explanation.segments)\n",
        "\n",
        "plt.figure()\n",
        "plt.imshow(heatmap, cmap='RdBu', vmin=-heatmap.max(), vmax=heatmap.max())\n",
        "plt.colorbar(label='Peso')\n",
        "plt.title('Pesos de los superpixeles')\n",
        "plt.show()\n"
      ]
    },
    {
      "cell_type": "markdown",
      "id": "41e573d0",
      "metadata": {
        "id": "41e573d0"
      },
      "source": [
        "## Ejercicio\n",
        "1. Considere ahora la imagen que está en el siguiente [link](https://drive.google.com/drive/folders/1RP9mYlGoEXCaR0XemMH5LwWue8_buPpF?usp=sharing).\n",
        "2. Genere la clasificación usando la CNN Inception V3 y explique (de acuerdo a los ejemplos anteriores) las cuatro primeras clasificaciones entregadas por la CNN.</li>\n",
        "3. Analice la predicción genererada por el clasificador (puntaje/score) y las explicaciones para cada clase generada por LIME. Comente"
      ]
    }
  ],
  "metadata": {
    "kernelspec": {
      "display_name": "Python 3 (ipykernel)",
      "language": "python",
      "name": "python3"
    },
    "language_info": {
      "codemirror_mode": {
        "name": "ipython",
        "version": 3
      },
      "file_extension": ".py",
      "mimetype": "text/x-python",
      "name": "python",
      "nbconvert_exporter": "python",
      "pygments_lexer": "ipython3",
      "version": "3.8.19"
    },
    "colab": {
      "provenance": []
    }
  },
  "nbformat": 4,
  "nbformat_minor": 5
}