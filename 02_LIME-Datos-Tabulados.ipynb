{
 "cells": [
  {
   "cell_type": "markdown",
   "id": "d7519ded",
   "metadata": {},
   "source": [
    "<center>\n",
    "    <h1> Predicción de calidad del vino y explicación con LIME </h2>\n",
    "</center>"
   ]
  },
  {
   "cell_type": "markdown",
   "id": "b3e6e53d",
   "metadata": {},
   "source": [
    "## Contenidos\n",
    "\n",
    "* [Introducción](#Introducción)\n",
    "* [Bibliotecas](#Bibliotecas)\n",
    "* [Datos](#Datos)\n",
    "* [Modelo Caja Negra](#Modelo-Caja-Negra)\n",
    "* [LimeTabularExplainer](#LimeTabularExplainer)\n",
    "* [Ejercicio](#Ejercicio)"
   ]
  },
  {
   "cell_type": "markdown",
   "id": "7987e35a",
   "metadata": {},
   "source": [
    "## Introducción\n",
    "\n",
    "En el siguiente notebook, se ejemplifica el uso de [LIME](https://dl.acm.org/doi/abs/10.1145/2939672.2939778) para explicar localmente un modelo de red neuronal que predice la calidad de un vino."
   ]
  },
  {
   "cell_type": "markdown",
   "id": "2c42a90f",
   "metadata": {},
   "source": [
    "# Bibliotecas"
   ]
  },
  {
   "cell_type": "code",
   "execution_count": null,
   "id": "c7dda099",
   "metadata": {},
   "outputs": [],
   "source": [
    "%matplotlib inline\n",
    "%load_ext autoreload\n",
    "%autoreload 2"
   ]
  },
  {
   "cell_type": "code",
   "execution_count": null,
   "id": "f2b81727",
   "metadata": {},
   "outputs": [],
   "source": [
    "import warnings\n",
    "import pandas as pd\n",
    "import numpy as np\n",
    "import matplotlib.pyplot as plt\n",
    "from lime import lime_tabular, submodular_pick\n",
    "from lime import submodular_pick\n",
    "from keras.layers import Dense\n",
    "from keras.models import Sequential\n",
    "from sklearn.model_selection import train_test_split\n",
    "from sklearn.metrics import mean_absolute_error, mean_squared_error"
   ]
  },
  {
   "cell_type": "markdown",
   "id": "7a280ad7",
   "metadata": {},
   "source": [
    "## Datos\n",
    "\n",
    "El conjunto de datos se puede descargar desde el siguiente enlace: [Red Wine Quality](https://www.kaggle.com/datasets/uciml/red-wine-quality-cortez-et-al-2009)."
   ]
  },
  {
   "cell_type": "code",
   "execution_count": null,
   "id": "ca1c88f7",
   "metadata": {},
   "outputs": [],
   "source": [
    "path_to_dataset = 'data/winequality-red.csv'\n",
    "df = pd.read_csv(path_to_dataset) \n",
    "df.head()"
   ]
  },
  {
   "cell_type": "code",
   "execution_count": null,
   "id": "fc5af16b",
   "metadata": {},
   "outputs": [],
   "source": [
    "X = df.iloc[:,0:11]\n",
    "y = np.array(df.quality)\n",
    "\n",
    "X_train, X_test, y_train, y_test = train_test_split(X, y,test_size=0.2,random_state = 42)\n",
    "X_val, X_test, y_val, y_test = train_test_split(X_train, y_train,test_size=0.5,random_state = 42)\n",
    "\n",
    "X_train.shape, X_val.shape, X_test.shape"
   ]
  },
  {
   "cell_type": "markdown",
   "id": "e1d5c9f3",
   "metadata": {},
   "source": [
    "## Modelo Caja Negra\n",
    "\n",
    "El modelo de caja negra a explicar es una red neuronal prealimentada, *Feedforward Neural Network* (FNN) en inglés."
   ]
  },
  {
   "cell_type": "markdown",
   "id": "3373cfe0",
   "metadata": {},
   "source": [
    "### Arquitectura\n",
    "\n",
    "La FNN en cuestión está basada en el siguiente [ejemplo](https://www.analyticsvidhya.com/blog/2021/07/plunging-into-deep-learning-carrying-a-red-wine/)."
   ]
  },
  {
   "cell_type": "code",
   "execution_count": null,
   "id": "864f5fc9",
   "metadata": {},
   "outputs": [],
   "source": [
    "model = Sequential([\n",
    "    Dense(512, activation='relu', input_shape=[11]),\n",
    "    Dense(512, activation='relu'),\n",
    "    Dense(512, activation='relu'),\n",
    "    Dense(1),\n",
    "])"
   ]
  },
  {
   "cell_type": "code",
   "execution_count": null,
   "id": "5c5e4492",
   "metadata": {},
   "outputs": [],
   "source": [
    "model.summary()"
   ]
  },
  {
   "cell_type": "markdown",
   "id": "97a14ed5",
   "metadata": {},
   "source": [
    "### Entrenamiento"
   ]
  },
  {
   "cell_type": "code",
   "execution_count": null,
   "id": "25ac679b",
   "metadata": {},
   "outputs": [],
   "source": [
    "model.compile(\n",
    "    optimizer=\"adam\",\n",
    "    loss=\"mae\",\n",
    ")\n",
    "\n",
    "history = model.fit(\n",
    "    X_train,\n",
    "    y_train,\n",
    "    validation_data=(X_val, y_val),\n",
    "    batch_size=256,\n",
    "    epochs=200,\n",
    "    verbose=0,\n",
    ")"
   ]
  },
  {
   "cell_type": "code",
   "execution_count": null,
   "id": "101957b4",
   "metadata": {},
   "outputs": [],
   "source": [
    "plt.figure()\n",
    "plt.plot(history.history['loss'], label=\"Train\")\n",
    "plt.plot(history.history['val_loss'], label=\"Validation\")\n",
    "plt.xlabel(\"Época\")\n",
    "plt.ylabel(\"Error\")\n",
    "plt.legend(loc=\"best\")\n",
    "plt.show()"
   ]
  },
  {
   "cell_type": "markdown",
   "id": "e21e2ab6",
   "metadata": {},
   "source": [
    "### Evaluación"
   ]
  },
  {
   "cell_type": "code",
   "execution_count": null,
   "id": "33002b96",
   "metadata": {},
   "outputs": [],
   "source": [
    "y_pred = model.predict(X_test)\n",
    "\n",
    "mae = mean_absolute_error(y_test, y_pred)\n",
    "mse = mean_squared_error(y_test, y_pred)\n",
    "rmse = mean_squared_error(y_test, y_pred, squared=False)"
   ]
  },
  {
   "cell_type": "code",
   "execution_count": null,
   "id": "1cbf24b3",
   "metadata": {},
   "outputs": [],
   "source": [
    "mae, mse, rmse"
   ]
  },
  {
   "cell_type": "markdown",
   "id": "91e830f1",
   "metadata": {},
   "source": [
    "## LimeTabularExplainer"
   ]
  },
  {
   "cell_type": "code",
   "execution_count": null,
   "id": "9374e372",
   "metadata": {},
   "outputs": [],
   "source": [
    "explainer = lime_tabular.LimeTabularExplainer(\n",
    "    X_train.values,\n",
    "    feature_names=X_train.columns,\n",
    "    class_names=[\"quality\"],\n",
    "    verbose=True,\n",
    "    mode=\"regression\",\n",
    ")"
   ]
  },
  {
   "cell_type": "markdown",
   "id": "998af3a0",
   "metadata": {},
   "source": [
    "A continuación, explicaremos localmente una predicción para una instancia del conjunto de prueba usando LIME."
   ]
  },
  {
   "cell_type": "code",
   "execution_count": null,
   "id": "c6516505",
   "metadata": {},
   "outputs": [],
   "source": [
    "warnings.filterwarnings('ignore', category=FutureWarning)"
   ]
  },
  {
   "cell_type": "code",
   "execution_count": null,
   "id": "54b17c6e",
   "metadata": {},
   "outputs": [],
   "source": [
    "index = 0\n",
    "instance = X_test.iloc[index]\n",
    "instance"
   ]
  },
  {
   "cell_type": "code",
   "execution_count": null,
   "id": "f29f113c",
   "metadata": {},
   "outputs": [],
   "source": [
    "local_explanation = explainer.explain_instance(instance, model.predict, num_samples=100000)"
   ]
  },
  {
   "cell_type": "code",
   "execution_count": null,
   "id": "9018be85-e927-4c80-b82c-b188490d6255",
   "metadata": {},
   "outputs": [],
   "source": [
    "local_explanation"
   ]
  },
  {
   "cell_type": "code",
   "execution_count": null,
   "id": "27b08a56",
   "metadata": {},
   "outputs": [],
   "source": [
    "local_explanation.as_list()"
   ]
  },
  {
   "cell_type": "code",
   "execution_count": null,
   "id": "bc1108d1",
   "metadata": {},
   "outputs": [],
   "source": [
    "local_explanation.show_in_notebook(show_table=True, show_all=False)"
   ]
  },
  {
   "cell_type": "code",
   "execution_count": null,
   "id": "6671a634",
   "metadata": {},
   "outputs": [],
   "source": [
    "local_explanation.as_pyplot_figure(label=1)\n",
    "plt.show()"
   ]
  },
  {
   "cell_type": "markdown",
   "id": "62344db0-4b04-4ef2-acc3-e6bf69ce8ce1",
   "metadata": {},
   "source": [
    "## Pregunta\n",
    "\n",
    "¿Qué puede interpretar de la predicción que entrega LIME?\n",
    "\n"
   ]
  },
  {
   "cell_type": "markdown",
   "id": "05764ada",
   "metadata": {},
   "source": [
    "## Ejercicio\n",
    "\n",
    "Usar el método ``SubmodularPick`` para generar una explicación global asociada al método SP-Lime. El siguiente [artículo](https://medium.com/@ML-STATS/lime-local-interpretable-model-agnostic-explanations-part-3-12bb30fc2a03) puede ser de ayuda."
   ]
  },
  {
   "cell_type": "code",
   "execution_count": null,
   "id": "8cbcf792-2686-44f0-a46d-dac28e745ddc",
   "metadata": {},
   "outputs": [],
   "source": []
  }
 ],
 "metadata": {
  "kernelspec": {
   "display_name": "Python 3 (ipykernel)",
   "language": "python",
   "name": "python3"
  },
  "language_info": {
   "codemirror_mode": {
    "name": "ipython",
    "version": 3
   },
   "file_extension": ".py",
   "mimetype": "text/x-python",
   "name": "python",
   "nbconvert_exporter": "python",
   "pygments_lexer": "ipython3",
   "version": "3.8.19"
  }
 },
 "nbformat": 4,
 "nbformat_minor": 5
}
