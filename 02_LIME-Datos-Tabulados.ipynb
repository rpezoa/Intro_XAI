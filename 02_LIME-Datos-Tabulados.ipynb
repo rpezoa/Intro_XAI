{
 "cells": [
  {
   "cell_type": "markdown",
   "id": "bea747c9",
   "metadata": {},
   "source": [
    "# Predicción de calidad del vino y explicación con LIME\n",
    "***\n",
    "* Problema de regresión\n",
    "* Datos: [Red Wine Quality](https://archive.ics.uci.edu/dataset/186/wine+quality)\n",
    "    - Las variables son: Input variables (based on physicochemical tests):\n",
    "        - 1 - *fixed acidity*\n",
    "        - 2 - *volatile acidity*\n",
    "        - 3 - *citric acid*\n",
    "        - 4 - *residual sugar*\n",
    "        - 5 - *chlorides*\n",
    "        - 6 - *free sulfur dioxide*\n",
    "        - 7 - *total sulfur dioxide*\n",
    "        - 8 - *density*\n",
    "        - 9 - *pH*\n",
    "        - 10 - *sulphates*\n",
    "        - 11 - *alcohol*\n",
    "        - 12 - *quality* (puntaje entre 0 y 10), es la variable que se quiere predecir\n",
    "* Uso de reed neuronal profunda (modelo tipo caja negra) para predecir la calidad\n",
    "* Explicación del modelo usando método [LIME](https://dl.acm.org/doi/abs/10.1145/2939672.2939778)."
   ]
  },
  {
   "cell_type": "markdown",
   "id": "2c42a90f",
   "metadata": {},
   "source": [
    "# Bibliotecas"
   ]
  },
  {
   "cell_type": "code",
   "execution_count": null,
   "id": "f2b81727",
   "metadata": {},
   "outputs": [],
   "source": [
    "import pandas as pd\n",
    "import numpy as np\n",
    "np.random.seed(0)\n",
    "from matplotlib import pyplot as plt\n",
    "\n",
    "from keras.models import Sequential\n",
    "from keras.layers import Dense\n",
    "\n",
    "from sklearn.metrics import mean_absolute_error, mean_squared_error\n",
    "\n",
    "\n",
    "from lime import lime_tabular"
   ]
  },
  {
   "cell_type": "markdown",
   "id": "7a280ad7",
   "metadata": {},
   "source": [
    "## Datos\n",
    "***\n",
    "Training, test y validation sets"
   ]
  },
  {
   "cell_type": "code",
   "execution_count": null,
   "id": "ca1c88f7",
   "metadata": {},
   "outputs": [],
   "source": [
    "df = pd.read_csv('data/winequality-red.csv') \n",
    "df.head()\n"
   ]
  },
  {
   "cell_type": "code",
   "execution_count": null,
   "id": "fc5af16b",
   "metadata": {},
   "outputs": [],
   "source": [
    "from sklearn.model_selection import train_test_split\n",
    "\n",
    "X = df.iloc[:,0:11]\n",
    "y = np.ravel(df.quality)\n",
    "\n",
    "X_train, X_test, y_train, y_test = train_test_split(X, y,test_size=0.2,random_state = 42)\n",
    "X_train, X_val, y_train, y_val = train_test_split(X_train, y_train,test_size=0.2,random_state = 42)"
   ]
  },
  {
   "cell_type": "markdown",
   "id": "e1d5c9f3",
   "metadata": {},
   "source": [
    "## Red neuronal para predecir calidad\n",
    "***\n",
    "Arquitectura de la red según [ejemplo](https://www.analyticsvidhya.com/blog/2021/07/plunging-into-deep-learning-carrying-a-red-wine/)"
   ]
  },
  {
   "cell_type": "code",
   "execution_count": null,
   "id": "25ac679b",
   "metadata": {},
   "outputs": [],
   "source": [
    "model = Sequential([\n",
    "    Dense(512, activation='relu', input_shape=[11]),\n",
    "    Dense(512, activation='relu'),\n",
    "    Dense(512, activation='relu'),\n",
    "    Dense(1),\n",
    "])\n",
    "model.compile(\n",
    "    optimizer='adam',\n",
    "    loss='mae',\n",
    ")\n",
    "history = model.fit(\n",
    "    X_train, y_train,\n",
    "    validation_data=(X_val, y_val),\n",
    "    batch_size=256,\n",
    "    epochs=50,\n",
    "    verbose= 0\n",
    ")"
   ]
  },
  {
   "cell_type": "code",
   "execution_count": null,
   "id": "a984b288",
   "metadata": {},
   "outputs": [],
   "source": [
    "model.summary()"
   ]
  },
  {
   "cell_type": "markdown",
   "id": "2bdf2834",
   "metadata": {},
   "source": [
    "## Loss plot"
   ]
  },
  {
   "cell_type": "code",
   "execution_count": null,
   "id": "101957b4",
   "metadata": {},
   "outputs": [],
   "source": [
    "plt.figure()\n",
    "plt.plot(history.history['loss'], label=\"Train\")\n",
    "plt.plot(history.history['val_loss'], label=\"Validation\")\n",
    "plt.xlabel(\"Época\")\n",
    "plt.ylabel(\"Error\")\n",
    "plt.legend(loc=\"best\")\n",
    "plt.show()"
   ]
  },
  {
   "cell_type": "markdown",
   "id": "e21e2ab6",
   "metadata": {},
   "source": [
    "## Predicción y desempeño del modelo"
   ]
  },
  {
   "cell_type": "code",
   "execution_count": null,
   "id": "33002b96",
   "metadata": {},
   "outputs": [],
   "source": [
    "y_pred = model.predict(X_test)"
   ]
  },
  {
   "cell_type": "code",
   "execution_count": null,
   "id": "3c5e0cc1",
   "metadata": {},
   "outputs": [],
   "source": [
    "mae_pred = mean_absolute_error(y_test, y_pred)"
   ]
  },
  {
   "cell_type": "code",
   "execution_count": null,
   "id": "3ba90f13",
   "metadata": {},
   "outputs": [],
   "source": [
    "mse_pred = mean_squared_error(y_test, y_pred)"
   ]
  },
  {
   "cell_type": "code",
   "execution_count": null,
   "id": "2a49eb07",
   "metadata": {},
   "outputs": [],
   "source": [
    "rmse_pred = mean_squared_error(y_test, y_pred, squared=False )"
   ]
  },
  {
   "cell_type": "code",
   "execution_count": null,
   "id": "1cbf24b3",
   "metadata": {},
   "outputs": [],
   "source": [
    "print(mae_pred, mse_pred,rmse_pred)"
   ]
  },
  {
   "cell_type": "markdown",
   "id": "91e830f1",
   "metadata": {},
   "source": [
    "# LIME"
   ]
  },
  {
   "cell_type": "markdown",
   "id": "4df27ef4",
   "metadata": {},
   "source": [
    "Explicación de la  predicción generada por la red neuronal profunda usando [LIME](https://github.com/marcotcr/lime)"
   ]
  },
  {
   "cell_type": "code",
   "execution_count": null,
   "id": "9374e372",
   "metadata": {},
   "outputs": [],
   "source": [
    "explainer =lime_tabular.LimeTabularExplainer(np.array(X_train),\n",
    "                    feature_names=X.columns, \n",
    "                    class_names=['quality'], \n",
    "                    verbose=True, mode='regression')"
   ]
  },
  {
   "cell_type": "code",
   "execution_count": null,
   "id": "a23fa636",
   "metadata": {},
   "outputs": [],
   "source": [
    "#! pip install lime"
   ]
  },
  {
   "cell_type": "markdown",
   "id": "998af3a0",
   "metadata": {},
   "source": [
    "## Eplicación a nivel local\n",
    "***\n",
    "* LIME explica la predicción generada por el modelo en  una instancia específica."
   ]
  },
  {
   "cell_type": "code",
   "execution_count": null,
   "id": "f29f113c",
   "metadata": {},
   "outputs": [],
   "source": [
    "id_instancia = 0\n",
    "exp = explainer.explain_instance(X_test.iloc[id_instancia], model.predict)"
   ]
  },
  {
   "cell_type": "code",
   "execution_count": null,
   "id": "27b08a56",
   "metadata": {},
   "outputs": [],
   "source": [
    "exp.as_list()"
   ]
  },
  {
   "cell_type": "code",
   "execution_count": null,
   "id": "f90207c4",
   "metadata": {},
   "outputs": [],
   "source": [
    "exp.show_in_notebook(show_table=True, show_all=False)\n",
    "print(X_test.iloc[id_instancia])"
   ]
  },
  {
   "cell_type": "code",
   "execution_count": null,
   "id": "6671a634",
   "metadata": {},
   "outputs": [],
   "source": [
    "p = exp.as_pyplot_figure(label=1)"
   ]
  },
  {
   "cell_type": "markdown",
   "id": "00263931",
   "metadata": {},
   "source": [
    "<div class=\"alert-success\">\n",
    "    <h3>Pregunta</h3>\n",
    "    <hr>\n",
    "    <ul>\n",
    "    <li> ¿Qué puede interpretar de la predicción que entrega LIME? </li>\n",
    "    </ul>\n",
    "</div>\n"
   ]
  },
  {
   "cell_type": "markdown",
   "id": "05764ada",
   "metadata": {},
   "source": [
    "<div class=\"alert-success\">\n",
    "    <h2>Tarea</h2>\n",
    "    <hr>\n",
    "    <ul>\n",
    "        <li> Usar el método SubmodularPick para generar una explicación global asociada al método SP-Lime</li>\n",
    "        <li>Revisar documentación en <a href=\"https://lime-ml.readthedocs.io/en/latest/lime.html?highlight=submodular_pick#module-lime.submodular_pick\">lime doc</a> y <a href=\"https://github.com/marcotcr/lime/tree/master/doc/notebooks\">lime notebooks</a></li>\n",
    "    </ul>\n",
    "   \n",
    "</div>\n",
    "\n"
   ]
  },
  {
   "cell_type": "code",
   "execution_count": null,
   "id": "29f2779e",
   "metadata": {},
   "outputs": [],
   "source": [
    "from lime import submodular_pick"
   ]
  }
 ],
 "metadata": {
  "kernelspec": {
   "display_name": "Python 3 (ipykernel)",
   "language": "python",
   "name": "python3"
  },
  "language_info": {
   "codemirror_mode": {
    "name": "ipython",
    "version": 3
   },
   "file_extension": ".py",
   "mimetype": "text/x-python",
   "name": "python",
   "nbconvert_exporter": "python",
   "pygments_lexer": "ipython3",
   "version": "3.9.12"
  }
 },
 "nbformat": 4,
 "nbformat_minor": 5
}
