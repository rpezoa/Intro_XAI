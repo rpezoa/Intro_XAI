{
  "nbformat": 4,
  "nbformat_minor": 0,
  "metadata": {
    "colab": {
      "provenance": [],
      "gpuType": "T4"
    },
    "kernelspec": {
      "name": "python3",
      "display_name": "Python 3"
    },
    "language_info": {
      "name": "python"
    },
    "accelerator": "GPU"
  },
  "cells": [
    {
      "cell_type": "markdown",
      "source": [
        "# Grad-CAM\n",
        "***\n",
        "\n",
        "\n",
        "*   Ejemplo obtenido de la documentación de [tf-keras-vis](https://keisen.github.io/tf-keras-vis-docs/examples/attentions.html#GradCAM)\n",
        "\n",
        "\n",
        "\n"
      ],
      "metadata": {
        "id": "zhtcsrhgmQb2"
      }
    },
    {
      "cell_type": "markdown",
      "source": [
        "# Bibliotecas necesarias"
      ],
      "metadata": {
        "id": "6B7U5gmsnChg"
      }
    },
    {
      "cell_type": "code",
      "execution_count": null,
      "metadata": {
        "id": "fz3cxMilrSd7"
      },
      "outputs": [],
      "source": [
        "! pip install tf-keras-vis"
      ]
    },
    {
      "cell_type": "code",
      "source": [
        "!gdown https://drive.google.com/uc?id=1y_kNEvqidyZek_iIiEH4orXLINR42P0f\n",
        "!gdown https://drive.google.com/uc?id=1TO7aFau6U2InbebhfjtPEb0uHUnx71Ag\n",
        "!gdown https://drive.google.com/uc?id=13TsWkxihmUaw0yjT0vglUxFgSWj-YwUO"
      ],
      "metadata": {
        "id": "EyID46Avs3dR"
      },
      "execution_count": null,
      "outputs": []
    },
    {
      "cell_type": "code",
      "source": [
        "%reload_ext autoreload\n",
        "%autoreload 2\n",
        "\n",
        "import numpy as np\n",
        "from matplotlib import pyplot as plt\n",
        "%matplotlib inline\n",
        "\n",
        "import tensorflow as tf\n",
        "from tf_keras_vis.utils import num_of_gpus\n",
        "\n",
        "_, gpus = num_of_gpus()\n",
        "print('Tensorflow recognized {} GPUs'.format(gpus))"
      ],
      "metadata": {
        "colab": {
          "base_uri": "https://localhost:8080/"
        },
        "id": "dxi4pmB5s5uW",
        "outputId": "2a1a02c8-4fc3-40db-923b-3147f948178f"
      },
      "execution_count": 4,
      "outputs": [
        {
          "output_type": "stream",
          "name": "stdout",
          "text": [
            "Tensorflow recognized 1 GPUs\n"
          ]
        }
      ]
    },
    {
      "cell_type": "markdown",
      "source": [
        "# Cargando modelo VGG16\n",
        "***"
      ],
      "metadata": {
        "id": "hn6Df1zknJXd"
      }
    },
    {
      "cell_type": "code",
      "source": [
        "from tensorflow.keras.applications.vgg16 import VGG16 as Model\n",
        "\n",
        "model = Model(weights='imagenet', include_top=True)"
      ],
      "metadata": {
        "colab": {
          "base_uri": "https://localhost:8080/"
        },
        "id": "YGL1LVEnut6m",
        "outputId": "1aebe337-9e2c-4263-e15b-b01efa7db4f4"
      },
      "execution_count": 5,
      "outputs": [
        {
          "output_type": "stream",
          "name": "stdout",
          "text": [
            "Downloading data from https://storage.googleapis.com/tensorflow/keras-applications/vgg16/vgg16_weights_tf_dim_ordering_tf_kernels.h5\n",
            "\u001b[1m553467096/553467096\u001b[0m \u001b[32m━━━━━━━━━━━━━━━━━━━━\u001b[0m\u001b[37m\u001b[0m \u001b[1m7s\u001b[0m 0us/step\n"
          ]
        }
      ]
    },
    {
      "cell_type": "markdown",
      "source": [
        "# Imágenes de prueba"
      ],
      "metadata": {
        "id": "2EDLBfT6nXnZ"
      }
    },
    {
      "cell_type": "code",
      "source": [
        "from tensorflow.keras.preprocessing.image import load_img\n",
        "from tensorflow.keras.applications.vgg16 import preprocess_input\n",
        "\n",
        "# Título de las imágenes\n",
        "image_titles = ['Goldfish', 'Bear', 'Lemon']\n",
        "\n",
        "# Cargar las imágenesá y transformarlas a arreglos de numpy\n",
        "img1 = load_img('Goldfish.jpeg', target_size=(224, 224))\n",
        "img2 = load_img('bear.JPEG', target_size=(224, 224))\n",
        "img3 = load_img('lemons-tree.jpg', target_size=(224, 224))\n",
        "images = np.asarray([np.array(img1), np.array(img2), np.array(img3)])\n",
        "\n",
        "# Preprocesamiento de los datos para entrar a VGG16\n",
        "X = preprocess_input(images)\n",
        "\n",
        "# Mostrando imágenes\n",
        "f, ax = plt.subplots(nrows=1, ncols=3, figsize=(12, 4))\n",
        "for i, title in enumerate(image_titles):\n",
        "    ax[i].set_title(title, fontsize=16)\n",
        "    ax[i].imshow(images[i])\n",
        "    ax[i].axis('off')\n",
        "plt.tight_layout()\n",
        "plt.show()\n"
      ],
      "metadata": {
        "id": "BXhhZ2AmtbCZ"
      },
      "execution_count": null,
      "outputs": []
    },
    {
      "cell_type": "markdown",
      "source": [
        "# Usando módulo *tf_keras_vis*\n",
        "## GradCAM\n"
      ],
      "metadata": {
        "id": "7iJc5mn0nqq0"
      }
    },
    {
      "cell_type": "code",
      "source": [
        "from tf_keras_vis.utils.model_modifiers import ReplaceToLinear\n",
        "# SE reemplaza la activación de la última capa (Dense(..., activation='softmax'))\n",
        "# por una función identidad (lineal):\n",
        "\n",
        "# Softmax \"aplana\" los gradientes: al normalizar las salidas, distribuye la probabilidad entre clases,\n",
        "# impactando negativamente los gradientes que necesitas para explicar una clase específica.\n",
        "\n",
        "# Grad-CAM requiere los logits (antes del softmax) para que los gradientes\n",
        "# reflejen la verdadera influencia de las neuronas sobre el score de clase.\n",
        "\n",
        "replace2linear = ReplaceToLinear()"
      ],
      "metadata": {
        "id": "1Itd8zWKu1jM"
      },
      "execution_count": 10,
      "outputs": []
    },
    {
      "cell_type": "code",
      "source": [
        "from tf_keras_vis.utils.scores import CategoricalScore\n",
        "\n",
        "# 1 is the imagenet index corresponding to Goldfish, 294 to Bear and 413 to Assault Rifle.\n",
        "score = CategoricalScore([1, 294, 951])\n"
      ],
      "metadata": {
        "id": "QwqZFJEXu9JR"
      },
      "execution_count": 8,
      "outputs": []
    },
    {
      "cell_type": "code",
      "source": [
        "%%time\n",
        "\n",
        "from matplotlib import cm\n",
        "from tf_keras_vis.gradcam import Gradcam\n",
        "\n",
        "# Create Gradcam object\n",
        "gradcam = Gradcam(model,\n",
        "                  model_modifier=replace2linear,\n",
        "                  clone=True)\n",
        "\n",
        "# Generate heatmap with GradCAM\n",
        "cam = gradcam(score,\n",
        "              X,\n",
        "              penultimate_layer=-1)\n",
        "\n",
        "## Since v0.6.0, calling `normalize()` is NOT necessary.\n",
        "# cam = normalize(cam)\n",
        "\n",
        "# Render\n",
        "f, ax = plt.subplots(nrows=1, ncols=3, figsize=(12, 4))\n",
        "for i, title in enumerate(image_titles):\n",
        "    heatmap = np.uint8(cm.jet(cam[i])[..., :3] * 255)\n",
        "    ax[i].set_title(title, fontsize=16)\n",
        "    ax[i].imshow(images[i])\n",
        "    ax[i].imshow(heatmap, cmap='jet', alpha=0.5) # overlay\n",
        "    ax[i].axis('off')\n",
        "plt.tight_layout()\n",
        "plt.show()"
      ],
      "metadata": {
        "id": "tETCcpOPtiMc"
      },
      "execution_count": null,
      "outputs": []
    },
    {
      "cell_type": "code",
      "source": [],
      "metadata": {
        "id": "pVqL0UWZvzV6"
      },
      "execution_count": null,
      "outputs": []
    }
  ]
}