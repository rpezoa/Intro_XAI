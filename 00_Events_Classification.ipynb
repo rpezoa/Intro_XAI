{
  "nbformat": 4,
  "nbformat_minor": 0,
  "metadata": {
    "colab": {
      "provenance": []
    },
    "kernelspec": {
      "name": "python3",
      "display_name": "Python 3"
    },
    "language_info": {
      "name": "python"
    }
  },
  "cells": [
    {
      "cell_type": "markdown",
      "source": [
        "\n",
        "# INF-473 - Introducción a la Intelegencia Artificial Explicable\n",
        "## 1er Semestre 2025 -- Prof. Raquel Pezoa\n",
        "\n",
        "## Actividad 0\n",
        "___\n",
        "* *Objetivo*: Usar Jupyter notebooks y las herramientas de Python para generar un modelo ML aplicado en datos científicos.\n",
        "\n",
        "* Resuelva el problema indicado a continuación\n"
      ],
      "metadata": {
        "id": "oPT35axvDhyr"
      }
    },
    {
      "cell_type": "code",
      "execution_count": 15,
      "metadata": {
        "id": "DiJOgNeebVwc"
      },
      "outputs": [],
      "source": [
        "import pandas as pd\n",
        "import numpy as np\n",
        "from matplotlib import pyplot as plt\n",
        "import seaborn as sns"
      ]
    },
    {
      "cell_type": "markdown",
      "source": [
        "# 1. Problem:\n",
        "The problem is to identify the signal from the background, where the signal corresponds to a Higgs boson decaying to a pair of bottom quarks according to the process:\n",
        "$$gg \\rightarrow H^0 \\rightarrow W^{\\mp} H^{\\pm} \\rightarrow W^{\\mp} W^{\\pm} h^0 \\rightarrow W^{\\mp} W^{\\pm} b \\bar{b}$$"
      ],
      "metadata": {
        "id": "BoRBtOP2efGV"
      }
    },
    {
      "cell_type": "markdown",
      "source": [
        "# Datos"
      ],
      "metadata": {
        "id": "GlBCdRoge8DV"
      }
    },
    {
      "cell_type": "code",
      "source": [
        "!gdown https://drive.google.com/uc?id=1OGThsYLPzRZDY8uKpMNc61uL30uVwxS_"
      ],
      "metadata": {
        "id": "grR8rQZycpQn"
      },
      "execution_count": null,
      "outputs": []
    },
    {
      "cell_type": "code",
      "source": [
        "df = pd.read_csv(\"higgs.csv\")"
      ],
      "metadata": {
        "colab": {
          "base_uri": "https://localhost:8080/"
        },
        "id": "AopVfW16cws9",
        "outputId": "998958df-b286-4c96-cdf0-d9b3331a667f"
      },
      "execution_count": 3,
      "outputs": [
        {
          "output_type": "stream",
          "name": "stderr",
          "text": [
            "<ipython-input-3-c88ff7bd9052>:1: DtypeWarning: Columns (20,21,22,23,24,25,26,27,28) have mixed types. Specify dtype option on import or set low_memory=False.\n",
            "  df = pd.read_csv(\"higgs.csv\")\n"
          ]
        }
      ]
    },
    {
      "cell_type": "markdown",
      "source": [
        "## Preprocessing"
      ],
      "metadata": {
        "id": "2Zd9nUTjFZOw"
      }
    },
    {
      "cell_type": "code",
      "source": [
        "df.drop(df.tail(1).index,inplace=True) # drop last n rows\n",
        "df = df.apply(pd.to_numeric)"
      ],
      "metadata": {
        "id": "Lr8R-WXHc7Jy"
      },
      "execution_count": 5,
      "outputs": []
    },
    {
      "cell_type": "code",
      "source": [
        "df.head()"
      ],
      "metadata": {
        "id": "jdWUrnCHdVb6"
      },
      "execution_count": null,
      "outputs": []
    },
    {
      "cell_type": "code",
      "source": [
        "from sklearn.model_selection import train_test_split\n",
        "from sklearn.metrics import classification_report"
      ],
      "metadata": {
        "id": "YKgGvLU0dXnJ"
      },
      "execution_count": 12,
      "outputs": []
    },
    {
      "cell_type": "code",
      "source": [
        "y = df[\"class\"]\n",
        "X = df.iloc[:,1:]\n",
        "\n",
        "from sklearn.preprocessing import MinMaxScaler, StandardScaler\n",
        "\n",
        "scaler = MinMaxScaler()\n",
        "scaler.fit(X)\n",
        "X_scaled = scaler.transform(X)\n",
        "\n",
        "scaler = StandardScaler()\n",
        "scaled_data = scaler.fit_transform(X)"
      ],
      "metadata": {
        "id": "25k4mx7odiqF"
      },
      "execution_count": 13,
      "outputs": []
    },
    {
      "cell_type": "code",
      "source": [
        "X_train, X_test, y_train, y_test = train_test_split(scaled_data,y, test_size=0.2, random_state=0)"
      ],
      "metadata": {
        "id": "5eQ-gBs6dkLi"
      },
      "execution_count": 14,
      "outputs": []
    },
    {
      "cell_type": "markdown",
      "source": [
        "# TODO:\n",
        "***\n",
        "\n",
        "* Entrenar una red neuronal para **clasificar** entre señal (etiqueta = 1) y background (etiqueta=0).\n",
        "* La rede debe predecir un *score* entre 0 y 1, donde valores cercanos a 0 indican que el evento es de la clase 0 (o brackground) y valores cercanos a 1 indica que el evento es clase 1 (o señal). **¿Cuántas neuronas y cuál función de activación debe tener la última capa?**\n",
        "* Graficar un histograma con las predicciones de la red en los datos de testing\n",
        "* Mostrar desempeños\n",
        "* Comente los resultados\n",
        "\n",
        "\n",
        "\n"
      ],
      "metadata": {
        "id": "hvWBN5BYdouy"
      }
    },
    {
      "cell_type": "code",
      "source": [],
      "metadata": {
        "id": "tOx8aLMcdmPu"
      },
      "execution_count": null,
      "outputs": []
    }
  ]
}