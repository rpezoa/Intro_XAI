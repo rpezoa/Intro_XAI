{
 "cells": [
  {
   "cell_type": "markdown",
   "id": "b384d222",
   "metadata": {},
   "source": [
    "# SHAP\n",
    "***\n",
    "## TreeExplainer para explicar clasificación de eventos\n",
    "* Datos obtenidos de https://www.openml.org/d/23512\n",
    "* Cada evento es representado por un conjunto de 28 variables, donde 21 variables son de bajo nivel correspondientes a propiedades físicas medidas por el detector, y 7 variables de alto nivel, provenientes d las anteriores.\n",
    "* Algunas variables son:\n",
    "|Type| Variable  | Description   |\n",
    "|---| --- | --- |\n",
    "|low-level|lepton pT |  Momentum of the lepton|\n",
    "|low-level|lepton eta | Pseudorapidity eta of the lepton|\n",
    "|low-level|lepton phi | Azimuthal angle phi of the lepton|\n",
    "|low-level|Missing energy magnitude | Energy not detected|\n",
    "|| ... | ...|\n",
    "|high-level|m_jlv| Mass jet ($j$), lepton ($l$, electrons or muons), neutrino $\\nu$| \n",
    "|high-level|m_bb| Mass quarks $b$|\t\n",
    "|high-level|m_wbb| Mass boson $W$ and quarks $b$|\n",
    "|high-level|m_wwbb|Mass bosons $W$ and quarks $b$|\n",
    "\n",
    "\n",
    "\n",
    "- Más detalles en [Baldi et al] Baldi, P., Sadowski, P., & Whiteson, D. (2014). Searching for exotic particles in high-energy physics with deep learning. Nature communications, 5(1), 1-9 [(link)](https://www.nature.com/articles/ncomms5308)."
   ]
  },
  {
   "cell_type": "markdown",
   "id": "64d648bd",
   "metadata": {},
   "source": [
    "<img src=\"img/signal_back.jpg\" width=\"300\">\n",
    "Imagen obtenida de Baldi et al."
   ]
  },
  {
   "cell_type": "markdown",
   "id": "51f52629",
   "metadata": {},
   "source": [
    "- **Problema:** Clasificación binario de eventos HEP, para identificar la señal del background\n",
    "- señal: $gg \\rightarrow H^0 \\rightarrow W^{\\mp} H^{\\pm} \\rightarrow W^{\\mp} W^{\\pm} h^0 \\rightarrow W^{\\mp} W^{\\pm} b \\bar{b}$. \n",
    " This signal process is the fusion of two gluons into a heavy electrically neutral Higgs boson ($gg \\rightarrow H^0 $), which decays to a heavy electrically-charged Higgs bosons ($H^{\\pm}$) and a $W$ boson. The $H^{\\pm}$ boson subsequently decays to a second $W$ boson and the light Higgs boson, $h^0$. The light Higgs boson decays predominantly to a pair of bottom quarks, giving the process."
   ]
  },
  {
   "cell_type": "markdown",
   "id": "3b901c64",
   "metadata": {},
   "source": [
    "## Bibliotecas"
   ]
  },
  {
   "cell_type": "code",
   "execution_count": null,
   "id": "8df0a518",
   "metadata": {},
   "outputs": [],
   "source": [
    "import shap\n",
    "import xgboost\n",
    "import numpy as np\n",
    "import pandas as pd\n",
    "from sklearn.preprocessing import StandardScaler\n",
    "from sklearn.model_selection import train_test_split\n",
    "from time import time\n",
    "from matplotlib import pyplot as plt\n",
    "import sys\n",
    "import mplhep as hep\n",
    "from scipy.special import expit "
   ]
  },
  {
   "cell_type": "markdown",
   "id": "3b417047",
   "metadata": {},
   "source": [
    "- Modelo generado usando [XGboost](https://xgboost.readthedocs.io/en/stable/python/python_intro.html)\n",
    "- De la optimización de hiperparámetros se obtiene:\n",
    " - {'eta': 0.005, 'objective': 'binary:logistic', 'subsample': 0.8, 'base_score': 0.5296727393261005, 'eval_metric': 'auc', 'max_depth': 2, 'tree_method': 'gpu_hist', 'min_child_weight': 5, 'colsample_bytree': 0.8}\n",
    "\n"
   ]
  },
  {
   "cell_type": "markdown",
   "id": "6175e65a",
   "metadata": {},
   "source": [
    "## Cargando un modelo"
   ]
  },
  {
   "cell_type": "markdown",
   "id": "6435966e",
   "metadata": {},
   "source": [
    "* Descargar el modelo desde [acá](https://drive.google.com/drive/folders/1RP9mYlGoEXCaR0XemMH5LwWue8_buPpF)"
   ]
  },
  {
   "cell_type": "code",
   "execution_count": null,
   "id": "72c467ba",
   "metadata": {},
   "outputs": [],
   "source": [
    "seed_=420\n",
    "model = xgboost.Booster()\n",
    "model.load_model(\"data/2021-09-09-binlog_auc_model.json\")"
   ]
  },
  {
   "cell_type": "markdown",
   "id": "c8176878",
   "metadata": {},
   "source": [
    "## Leyendo datos"
   ]
  },
  {
   "cell_type": "code",
   "execution_count": null,
   "id": "704c5b0a",
   "metadata": {},
   "outputs": [],
   "source": [
    "\n",
    "df = pd.read_csv(\"data/higgs_bb.csv\")\n",
    "df.rename(columns = {'class': 'label'}, inplace = True)\n",
    "\n",
    "\n",
    "df.drop(df.tail(1).index,inplace=True) # drop last n rows\n",
    "df = df.apply(pd.to_numeric)\n"
   ]
  },
  {
   "cell_type": "code",
   "execution_count": null,
   "id": "fd842bb0",
   "metadata": {},
   "outputs": [],
   "source": [
    "# Escalando datos\n",
    "y = df[\"label\"]\n",
    "X = df.iloc[:,1:]\n",
    "\n",
    "scaler = StandardScaler()\n",
    "scaled_data = scaler.fit_transform(X)\n",
    "df_scaled = pd.DataFrame(scaled_data, columns=X.columns)"
   ]
  },
  {
   "cell_type": "markdown",
   "id": "ea3e4746",
   "metadata": {},
   "source": [
    "## Entreaniento, validación y prueba"
   ]
  },
  {
   "cell_type": "code",
   "execution_count": null,
   "id": "b407bf0f",
   "metadata": {},
   "outputs": [],
   "source": [
    "# Training, validation, and testing data\n",
    "X_train, X_test, y_train, y_test = train_test_split(X, y, test_size=0.2, \n",
    "                                                    random_state=seed_)\n",
    "\n",
    "# XGBoost format\n",
    "d_train = xgboost.DMatrix(X_train, label=y_train)\n",
    "d_test = xgboost.DMatrix(X_test,label=y_test)"
   ]
  },
  {
   "cell_type": "markdown",
   "id": "535af401",
   "metadata": {},
   "source": [
    "## Predicción"
   ]
  },
  {
   "cell_type": "code",
   "execution_count": null,
   "id": "4e7d7726",
   "metadata": {},
   "outputs": [],
   "source": [
    "y_pred_test = model.predict(d_test)\n",
    "y_pred_train = model.predict(d_train)"
   ]
  },
  {
   "cell_type": "code",
   "execution_count": null,
   "id": "737450f6",
   "metadata": {},
   "outputs": [],
   "source": [
    "from sklearn.metrics import roc_curve, auc\n",
    "from sklearn.metrics import precision_score, recall_score, accuracy_score, f1_score\n",
    "\n",
    "sel_th = 0.3\n",
    "fpr, tpr, ths = roc_curve(y_test,  y_pred_test)\n",
    "auc_ = auc(fpr, tpr)\n",
    "f1 = f1_score(y_test,  (y_pred_test>sel_th))\n",
    "prec = precision_score(y_test,  (y_pred_test>sel_th))\n",
    "rec = recall_score(y_test,  (y_pred_test>sel_th))\n",
    "acc = accuracy_score(y_test,  (y_pred_test>sel_th))\n",
    "print(\"F1: %.2f\" %f1 , \" -- prec: %.2f\" %prec, \" -- recall: %.2f\" %rec, \" -- acc: %.2f\" %acc)"
   ]
  },
  {
   "cell_type": "code",
   "execution_count": null,
   "id": "3a7c9acf",
   "metadata": {},
   "outputs": [],
   "source": [
    "fpr_train, tpr_train, ths_train = roc_curve(y_train, y_pred_train)\n",
    "auc_train = auc(fpr_train, tpr_train)"
   ]
  },
  {
   "cell_type": "code",
   "execution_count": null,
   "id": "4c2c368c",
   "metadata": {},
   "outputs": [],
   "source": [
    "#create ROC curve\n",
    "plt.figure()\n",
    "plt.plot(fpr,tpr, label='ROC curve (area = %.2f) - Test' %auc_ )\n",
    "plt.plot(fpr_train,tpr_train, label='ROC curve (area = %.2f) - Train' %auc_train)\n",
    "plt.ylabel('True Positive Rate')\n",
    "plt.xlabel('False Positive Rate')\n",
    "plt.legend()\n",
    "plt.grid()\n",
    "plt.show()"
   ]
  },
  {
   "cell_type": "code",
   "execution_count": null,
   "id": "167610ff",
   "metadata": {},
   "outputs": [],
   "source": [
    "# Score distribution\n",
    "f, axs = plt.subplots(1, 1, sharex=True, sharey=True)\n",
    "h_signal_train, bins_sig_train = np.histogram(y_pred_train[y_train == 1], bins=30)\n",
    "h_back_train, bins_back_train = np.histogram(y_pred_train[y_train == 0], bins=30)\n",
    "h_sig_test, bins_sig_test = np.histogram(y_pred_test[y_test == 1], bins=30)\n",
    "h_back_test, bins_back_test = np.histogram(y_pred_test[y_test == 0], bins=30)\n",
    "\n",
    "axs.set_title(\"XGBoost\")\n",
    "hep.histplot([h_signal_train,h_back_train, h_sig_test, h_back_test], bins_sig_test, \n",
    "             ax=axs,label=[\"Train-Sig\", \"Train-B\", \"Test-S\", \"Test-B\"])\n",
    "axs.legend()\n",
    "axs.set_xlabel(\"Score\")\n",
    "axs.set_ylabel(\"Number of Events\")\n",
    "\n",
    "plt.tight_layout()\n",
    "plt.show()"
   ]
  },
  {
   "cell_type": "markdown",
   "id": "9f4dbc2b",
   "metadata": {},
   "source": [
    "## TreeExplainer"
   ]
  },
  {
   "cell_type": "code",
   "execution_count": null,
   "id": "b745fa21",
   "metadata": {},
   "outputs": [],
   "source": [
    "import shap\n",
    "# SHAP\n",
    "start_time = time()\n",
    "explainer = shap.TreeExplainer(model = model)\n",
    "elapsed_time = time() - start_time\n",
    "print(\"Elapsed time: %0.5f seconds.\" % elapsed_time)"
   ]
  },
  {
   "cell_type": "code",
   "execution_count": null,
   "id": "fb9c7194",
   "metadata": {
    "scrolled": true
   },
   "outputs": [],
   "source": [
    "start_time = time()\n",
    "shap_values = explainer.shap_values(X_test)\n",
    "elapsed_time = time() - start_time\n",
    "print(\"Elapsed time: %0.5f seconds.\" % elapsed_time)"
   ]
  },
  {
   "cell_type": "markdown",
   "id": "d67e44ae",
   "metadata": {},
   "source": [
    "## SHAP Plots"
   ]
  },
  {
   "cell_type": "code",
   "execution_count": null,
   "id": "5cc6649c",
   "metadata": {},
   "outputs": [],
   "source": [
    "# print the JS visualization code to the notebook\n",
    "shap.initjs()"
   ]
  },
  {
   "cell_type": "code",
   "execution_count": null,
   "id": "ba3d34df",
   "metadata": {},
   "outputs": [],
   "source": [
    "def imprime_datos(i):\n",
    "    print(\"Evento {} :\".format(i))\n",
    "    print(\"Pimeras 5 variables del evento:\")\n",
    "    display(X_test.iloc[i][0:5]) #5 primeras variables del evento i\n",
    "    print(\"--- Etiqueta del evento {}: {}\".format(i,y_test.values[i]))\n",
    "    print(\"--- Predicción-DNN del evento {}: {}\".format(i,y_pred_test[i]))\n",
    "    print(\"--- Valor esperado del explicador: %.4f\" % explainer.expected_value)\n",
    "    print(\"--- Predicción DDN según\")\n",
    "    print(\"... 'shap_values[i].sum() + explainer.expected_value:\")\n",
    "    print(\"\\t\\t %.4f\" % (shap_values[i].sum() + explainer.expected_value))\n",
    "    print(\"--- Predicción DNN según\")\n",
    "    print(\"... 'logit(expit(shap_values[i].sum() + explainer.expected_value'\")\n",
    "    print(\" \\t\\t %.2f\" % (expit(shap_values[i].sum() + explainer.expected_value)))\n",
    "    print(\"--- y_pred_test.mean(): %.4f\" % y_pred_test.mean())\n",
    "    "
   ]
  },
  {
   "cell_type": "markdown",
   "id": "c6acc8aa",
   "metadata": {},
   "source": [
    "## Watefall plot\n",
    "***\n",
    "* El [shap.plots.waterfall](https://shap.readthedocs.io/en/latest/example_notebooks/api_examples/plots/waterfall.html) muestra la explicación de la predicción de una instancia específica.\n",
    "* La parte inferior de un gráfico de cascada comienza con el valor esperado del resultado del modelo, y luego cada fila muestra cómo la contribución positiva (roja) o negativa (azul) de cada variable que define a la instancia mueve el valor del resultado esperado del modelo"
   ]
  },
  {
   "cell_type": "code",
   "execution_count": null,
   "id": "6a5971ea",
   "metadata": {},
   "outputs": [],
   "source": [
    "#https://github.com/slundberg/shap/issues/1420\n",
    "i = 4\n",
    "shap.plots._waterfall.waterfall_legacy(explainer.expected_value, \n",
    "                                       shap_values[i],\n",
    "                                       feature_names = df.columns[1:], \n",
    "                                       show = True,\n",
    "                                       max_display=12)"
   ]
  },
  {
   "cell_type": "code",
   "execution_count": null,
   "id": "75b876cd",
   "metadata": {},
   "outputs": [],
   "source": [
    "imprime_datos(i)"
   ]
  },
  {
   "cell_type": "code",
   "execution_count": null,
   "id": "009e1800",
   "metadata": {},
   "outputs": [],
   "source": [
    "print(X_test.columns)"
   ]
  },
  {
   "cell_type": "code",
   "execution_count": null,
   "id": "db6fe927",
   "metadata": {},
   "outputs": [],
   "source": [
    "print(\"SHAP Value m_bb: %.2f\" %shap_values[i,-3])\n",
    "print(\"SHAP Value m_wwbb: %.2f\" %shap_values[i,-1])\n",
    "print(\"SHAP Value missing energy phi: %.2f\" %shap_values[i,4])"
   ]
  },
  {
   "cell_type": "markdown",
   "id": "78b98903",
   "metadata": {},
   "source": [
    "## Force plot\n",
    "***\n",
    "* El [gráfico de fuerza](https://shap.readthedocs.io/en/latest/example_notebooks/tabular_examples/tree_based_models/Force%20Plot%20Colors.html) es otra forma de visualizar la contribución de cada variable en la predicción generada por el modelo\n",
    "* Notar que se muestran los valores de las variables\n"
   ]
  },
  {
   "cell_type": "code",
   "execution_count": null,
   "id": "7fad6e27",
   "metadata": {},
   "outputs": [],
   "source": [
    "sh = shap.force_plot(explainer.expected_value, shap_values[i,:], X_test.iloc[i,:], link=\"logit\")\n",
    "display(sh)"
   ]
  },
  {
   "cell_type": "markdown",
   "id": "d61232a0",
   "metadata": {},
   "source": [
    "## Summary Plot\n",
    "***\n",
    "* Muestra un resumen de como las variables de un conjunto de datos afecta en salida del modelo. \n",
    "* Cada punto del gráfico es una instancia \n",
    "* La posición del punto en el eje $x$ está determimada por su el valor SHAP \n",
    "* Los puntos se van \"apilando\" a lo largo de cada fila de variables \n",
    "* El color se usa para mostrar el valor original de una característica \n",
    "* Por ejemplo, en este gráfico se ve que la variable que más contribuye en promedio es m_bb.\n"
   ]
  },
  {
   "cell_type": "code",
   "execution_count": null,
   "id": "c66ac0e8",
   "metadata": {},
   "outputs": [],
   "source": [
    "X_test.columns"
   ]
  },
  {
   "cell_type": "code",
   "execution_count": null,
   "id": "31fe0821",
   "metadata": {},
   "outputs": [],
   "source": [
    "shap.summary_plot(shap_values, X_test)"
   ]
  },
  {
   "cell_type": "markdown",
   "id": "7c8f5f77",
   "metadata": {},
   "source": [
    "## Ranking de variables\n",
    "***\n",
    "* El summary plot también se puede mostrar con barras, lo que entrega un *ranking* de variables\n",
    "* Este ranking nos entrega una **explicación global** y se construye calculando un índice de importance $I_j$ de la variable $j$, considerando el promedio de los valores absolutos de los valores SHAP por cada variable y para todo el conjunto de datos:\n",
    "$$I_j = \\frac{1}{n}\\sum_{i=1}^{n}|\\phi_{j}^{(i)}|$$\n",
    "\n",
    "donde $j$ es el índice asociado a la variable y $n$ representa el número de variables que definen a los datos"
   ]
  },
  {
   "cell_type": "code",
   "execution_count": null,
   "id": "85faad0f",
   "metadata": {},
   "outputs": [],
   "source": [
    "shap.summary_plot(shap_values, X_test, plot_type=\"bar\")"
   ]
  },
  {
   "cell_type": "markdown",
   "id": "9c4314b3",
   "metadata": {},
   "source": [
    "## Dependence plot\n",
    "***\n",
    "* Este gráfico de [dependencia](https://shap-lrjball.readthedocs.io/en/latest/generated/shap.dependence_plot.html), también nos entrega una explicación global.\n",
    "* Este gráfico muestra el valor de la variable en el eje $x$ y el valor SHAP en el eje $y$\n",
    "* Se visualiza cómo el modelo depende se comporta para la variable indicada \n",
    "* La dispersión vertical de los puntos de datos representa efectos de interacción. \n",
    "* El color de los puntos va asociado a la variable con la que tiene mayor *interacción*."
   ]
  },
  {
   "cell_type": "code",
   "execution_count": null,
   "id": "8241d9ae",
   "metadata": {},
   "outputs": [],
   "source": [
    "shap.dependence_plot(\"m_bb\", shap_values, X_test, interaction_index=None)"
   ]
  },
  {
   "cell_type": "code",
   "execution_count": null,
   "id": "393ca6a3",
   "metadata": {},
   "outputs": [],
   "source": []
  }
 ],
 "metadata": {
  "kernelspec": {
   "display_name": "Python 3 (ipykernel)",
   "language": "python",
   "name": "python3"
  },
  "language_info": {
   "codemirror_mode": {
    "name": "ipython",
    "version": 3
   },
   "file_extension": ".py",
   "mimetype": "text/x-python",
   "name": "python",
   "nbconvert_exporter": "python",
   "pygments_lexer": "ipython3",
   "version": "3.9.12"
  }
 },
 "nbformat": 4,
 "nbformat_minor": 5
}
