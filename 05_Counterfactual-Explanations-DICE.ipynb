{
 "cells": [
  {
   "cell_type": "markdown",
   "id": "3815b774",
   "metadata": {},
   "source": [
    "# Explicaciones Contrafactuales\n",
    "## Método Diverse Counterfactual Explanations (DICE)\n",
    "***\n",
    "\n",
    "* Ejemplo obtenido de la documentación de [dice-ml](https://interpret.ml/DiCE/notebooks/DiCE_getting_started.html)\n",
    "* Se generan un número $k$ de instancias contrafactuales utilizando el Método presentado en [Mothilal et al., 2020]\n",
    "\n",
    "\n",
    "\n",
    "[Mothilal et al., 2020] Mothilal, R. K., Sharma, A., and Tan, C. (2020). Explaining machine learning classifiers through diverse counterfactual explanations. In Proceedings of the 2020 Conference on fairness, accountability, and transparency, pages 607–617"
   ]
  },
  {
   "cell_type": "code",
   "execution_count": null,
   "id": "acba2330",
   "metadata": {},
   "outputs": [],
   "source": [
    "#!pip install dice-ml"
   ]
  },
  {
   "cell_type": "markdown",
   "id": "af935adf",
   "metadata": {},
   "source": [
    "## Bibliotecas"
   ]
  },
  {
   "cell_type": "code",
   "execution_count": null,
   "id": "124cf71a",
   "metadata": {},
   "outputs": [],
   "source": [
    "from sklearn.compose import ColumnTransformer\n",
    "from sklearn.model_selection import train_test_split\n",
    "from sklearn.pipeline import Pipeline\n",
    "from sklearn.preprocessing import OneHotEncoder\n",
    "from sklearn.ensemble import RandomForestClassifier"
   ]
  },
  {
   "cell_type": "markdown",
   "id": "56b2f4b5",
   "metadata": {},
   "source": [
    "## Bibliotecca dice_ml de Python"
   ]
  },
  {
   "cell_type": "code",
   "execution_count": null,
   "id": "55364ee3",
   "metadata": {},
   "outputs": [],
   "source": [
    "import dice_ml\n",
    "from dice_ml.utils import helpers  "
   ]
  },
  {
   "cell_type": "markdown",
   "id": "97588382",
   "metadata": {},
   "source": [
    "##  Ejemplo 1: Dataset adult_income\n",
    "***\n",
    "* Este dataset está disponible en [UCI ML Library](https://archive.ics.uci.edu/dataset/2/adult) y tiene asociada la tarea de clasificación"
   ]
  },
  {
   "cell_type": "code",
   "execution_count": null,
   "id": "e82b2acf",
   "metadata": {},
   "outputs": [],
   "source": [
    "dataset = helpers.load_adult_income_dataset()"
   ]
  },
  {
   "cell_type": "code",
   "execution_count": null,
   "id": "0d284778",
   "metadata": {},
   "outputs": [],
   "source": [
    "dataset.head()"
   ]
  },
  {
   "cell_type": "markdown",
   "id": "f1822ec3",
   "metadata": {},
   "source": [
    "* Este conjunto de datos tiene 8 variables, y la variable \"income\" tiene el valor 0 (bajo) si sus ingresos son <= 50000 o valor 1 (alto) si los ingresos son > 50000)"
   ]
  },
  {
   "cell_type": "code",
   "execution_count": null,
   "id": "85fb3382",
   "metadata": {},
   "outputs": [],
   "source": [
    "# description of transformed features\n",
    "adult_info = helpers.get_adult_data_info()\n",
    "adult_info"
   ]
  },
  {
   "cell_type": "markdown",
   "id": "5f1906eb",
   "metadata": {},
   "source": [
    "### Generación de datos de entrenamiento y prueba"
   ]
  },
  {
   "cell_type": "code",
   "execution_count": null,
   "id": "dd14e9e1",
   "metadata": {},
   "outputs": [],
   "source": [
    "target = dataset[\"income\"]\n",
    "train_dataset, test_dataset, y_train, y_test = train_test_split(dataset,\n",
    "                                                                target,\n",
    "                                                                test_size=0.2,\n",
    "                                                                random_state=0,\n",
    "                                                                stratify=target)\n",
    "x_train = train_dataset.drop('income', axis=1)\n",
    "x_test = test_dataset.drop('income', axis=1)"
   ]
  },
  {
   "cell_type": "markdown",
   "id": "090d78e4",
   "metadata": {},
   "source": [
    "## Explicación usando el método contrafactual DICE\n",
    "***\n",
    "* Se genera un objeto de datos para DICE, y considerando que las variables continuas y discretas tienen diferentes formas de perturbación, se especifican los nombres de las variables continuas. \n",
    "* DICE también requiere el nombre de la variable de salida que predecirá el modelo ML."
   ]
  },
  {
   "cell_type": "code",
   "execution_count": null,
   "id": "cc91ad1d",
   "metadata": {},
   "outputs": [],
   "source": [
    "d = dice_ml.Data(dataframe=train_dataset, \n",
    "                 continuous_features=['age', 'hours_per_week'], \n",
    "                 outcome_name='income')"
   ]
  },
  {
   "cell_type": "code",
   "execution_count": null,
   "id": "ba1f4864",
   "metadata": {},
   "outputs": [],
   "source": [
    "numerical = [\"age\", \"hours_per_week\"]\n",
    "categorical = x_train.columns.difference(numerical)"
   ]
  },
  {
   "cell_type": "code",
   "execution_count": null,
   "id": "2b8cdc87",
   "metadata": {},
   "outputs": [],
   "source": [
    "categorical_transformer = Pipeline(steps=[\n",
    "    ('onehot', OneHotEncoder(handle_unknown='ignore'))])\n",
    "\n",
    "transformations = ColumnTransformer(\n",
    "    transformers=[\n",
    "        ('cat', categorical_transformer, categorical)])"
   ]
  },
  {
   "cell_type": "code",
   "execution_count": null,
   "id": "398621a3",
   "metadata": {},
   "outputs": [],
   "source": [
    "transformations"
   ]
  },
  {
   "cell_type": "markdown",
   "id": "c8e09d84",
   "metadata": {},
   "source": [
    "* Con Pipeline se aplica una secuencia de transformaciones y un modelo final"
   ]
  },
  {
   "cell_type": "code",
   "execution_count": null,
   "id": "aea684da",
   "metadata": {},
   "outputs": [],
   "source": [
    "clf = Pipeline(steps=[('preprocessor', transformations),\n",
    "                      ('classifier', RandomForestClassifier())])\n",
    "model = clf.fit(x_train, y_train)\n",
    "\n"
   ]
  },
  {
   "cell_type": "code",
   "execution_count": null,
   "id": "98d4a4f3",
   "metadata": {},
   "outputs": [],
   "source": [
    "test_pred = model.predict(x_test)"
   ]
  },
  {
   "cell_type": "markdown",
   "id": "0d5a50e8",
   "metadata": {},
   "source": [
    "* DiCE tiene soporte para sklearn, tensorflow and pytorch."
   ]
  },
  {
   "cell_type": "code",
   "execution_count": null,
   "id": "d7066314",
   "metadata": {},
   "outputs": [],
   "source": [
    "m = dice_ml.Model(model=model, backend=\"sklearn\")\n",
    "\n",
    "\n",
    "exp = dice_ml.Dice(d, m, method=\"random\") # método random para la generación de contrafactuales\n",
    "                                          # también permite genetic algorithm search, \n",
    "                                          # y kd-tree based generation"
   ]
  },
  {
   "cell_type": "markdown",
   "id": "141b001f",
   "metadata": {},
   "source": [
    "## Visualización de la explicación contrafactual\n",
    "***\n",
    "* Se buscarán dos explicaciones contrafactuales para el dato:"
   ]
  },
  {
   "cell_type": "code",
   "execution_count": null,
   "id": "3c8c5517",
   "metadata": {},
   "outputs": [],
   "source": [
    "display(x_test[0:1])"
   ]
  },
  {
   "cell_type": "code",
   "execution_count": null,
   "id": "f92a4753",
   "metadata": {},
   "outputs": [],
   "source": [
    "print(\"Etiqueta del dato: \", y_test.iloc[0], \"predicción del dato: \", test_pred[0])"
   ]
  },
  {
   "cell_type": "code",
   "execution_count": null,
   "id": "fa47c162",
   "metadata": {},
   "outputs": [],
   "source": [
    "e1 = exp.generate_counterfactuals(x_test[0:1], total_CFs=2, desired_class=\"opposite\")\n",
    "e1.visualize_as_dataframe(show_only_changes=True)"
   ]
  },
  {
   "cell_type": "code",
   "execution_count": null,
   "id": "b1cede13",
   "metadata": {},
   "outputs": [],
   "source": [
    "e1.visualize_as_dataframe(show_only_changes=False)"
   ]
  },
  {
   "cell_type": "markdown",
   "id": "85c6a8bc",
   "metadata": {},
   "source": [
    "<div class=\"alert-success\">\n",
    "    <h2>Ejercicio</h2>\n",
    "    <hr>\n",
    "    <ul>\n",
    "        <li> Probar explicaciones para otros datos, restringir las variables que se quieren modificar para generar los contrafactuales </li>\n",
    "        <li> Revisar en la  <a href=\"https://interpret.ml/DiCE/notebooks/DiCE_getting_started.html\">documentación</a>  como se puede generar una explicación global.</li>\n",
    "    </ul>\n",
    "</div>"
   ]
  },
  {
   "cell_type": "markdown",
   "id": "c0341d56",
   "metadata": {},
   "source": [
    "***"
   ]
  },
  {
   "cell_type": "markdown",
   "id": "a21ec9b9",
   "metadata": {},
   "source": [
    "## Ejemplo 2 :  Breast Cancer Dataset\n",
    "***\n",
    "* Este dataset está disponible en [UCI ML Library](https://archive.ics.uci.edu/dataset/17/breast+cancer+wisconsin+diagnostic) y tiene asociada la tarea de clasificación\n",
    "* Las variables se calculan a partir de una imagen digitalizada de una masa mamaria, y  describen características de los núcleos celulares presentes en la imagen. "
   ]
  },
  {
   "cell_type": "code",
   "execution_count": null,
   "id": "9398222d",
   "metadata": {},
   "outputs": [],
   "source": [
    "import pandas as pd\n",
    "from sklearn.datasets import load_breast_cancer\n",
    "from sklearn.model_selection import train_test_split\n",
    "\n",
    "import tensorflow.keras\n",
    "from tensorflow.keras.models import Sequential\n",
    "from tensorflow.keras.layers import Dense"
   ]
  },
  {
   "cell_type": "markdown",
   "id": "f45d062b",
   "metadata": {},
   "source": [
    "## Descarga de datos"
   ]
  },
  {
   "cell_type": "code",
   "execution_count": null,
   "id": "47c916b1",
   "metadata": {},
   "outputs": [],
   "source": [
    "breast_cancer = load_breast_cancer()\n",
    "\n",
    "breast_cancer_df = pd.DataFrame(data=breast_cancer.data, columns=breast_cancer.feature_names)\n",
    "breast_cancer_df[\"TumorType\"] = breast_cancer.target\n",
    "\n",
    "breast_cancer_df.head()"
   ]
  },
  {
   "cell_type": "markdown",
   "id": "d2d28ef0",
   "metadata": {},
   "source": [
    "## Conjuntos de entrenamiento y prueba"
   ]
  },
  {
   "cell_type": "code",
   "execution_count": null,
   "id": "34de4df4",
   "metadata": {},
   "outputs": [],
   "source": [
    "\n",
    "X_train, X_test, y_train, y_test = train_test_split(breast_cancer.data, \n",
    "                                                    breast_cancer.target,\n",
    "                                                    train_size=0.80,\n",
    "                                                    random_state=0)\n",
    "\n",
    "print(X_train.shape, X_test.shape, y_train.shape, y_test.shape)"
   ]
  },
  {
   "cell_type": "code",
   "execution_count": null,
   "id": "5c48c8a4",
   "metadata": {},
   "outputs": [],
   "source": [
    "model = Sequential([\n",
    "            Dense(50, activation=\"relu\", input_shape=(len(breast_cancer.feature_names), )),\n",
    "            Dense(50, activation=\"relu\"),\n",
    "            Dense(50, activation=\"relu\"),\n",
    "            Dense(1, activation=\"sigmoid\"),\n",
    "           ])\n",
    "\n",
    "model.summary()"
   ]
  },
  {
   "cell_type": "code",
   "execution_count": null,
   "id": "2218c3cd",
   "metadata": {},
   "outputs": [],
   "source": [
    "model.compile(optimizer=\"adam\", loss=\"binary_crossentropy\", metrics=[\"Precision\"])"
   ]
  },
  {
   "cell_type": "code",
   "execution_count": null,
   "id": "4f559942",
   "metadata": {},
   "outputs": [],
   "source": [
    "%%time\n",
    "\n",
    "history = model.fit(X_train, y_train, batch_size=8, epochs=10, verbose=0)"
   ]
  },
  {
   "cell_type": "code",
   "execution_count": null,
   "id": "929a446c",
   "metadata": {},
   "outputs": [],
   "source": [
    "from sklearn.metrics import accuracy_score, classification_report\n",
    "\n",
    "test_pred = [0 if pred< 0.5 else 1 for pred in model.predict(X_test).flatten()]\n",
    "train_pred = [0 if pred< 0.5 else 1 for pred in model.predict(X_train).flatten()]\n",
    "\n",
    "print(\"Train Accuracy : %.2f\"%accuracy_score(y_train, train_pred))\n",
    "print(\"Test  Accuracy : %.2f\"%accuracy_score(y_test, test_pred))\n",
    "\n",
    "print(\"\\nTest  Classification Report : \")\n",
    "print(classification_report(y_test, test_pred))"
   ]
  },
  {
   "cell_type": "code",
   "execution_count": null,
   "id": "79afbfc7",
   "metadata": {},
   "outputs": [],
   "source": [
    "d = dice_ml.Data(dataframe=breast_cancer_df,\n",
    "                 continuous_features=breast_cancer.feature_names.tolist(),\n",
    "                 outcome_name='TumorType')\n",
    "\n",
    "m = dice_ml.Model(model=model, backend=\"TF2\")\n",
    "\n",
    "exp = dice_ml.Dice(d, m)\n",
    "\n"
   ]
  },
  {
   "cell_type": "code",
   "execution_count": null,
   "id": "fd5537d5",
   "metadata": {},
   "outputs": [],
   "source": [
    "breast_cancer_df.head()"
   ]
  },
  {
   "cell_type": "code",
   "execution_count": null,
   "id": "f9c6e0b3",
   "metadata": {},
   "outputs": [],
   "source": [
    "X_train = pd.DataFrame(X_train, columns = breast_cancer_df.columns[:-1])\n",
    "X_test = pd.DataFrame(X_test, columns=breast_cancer_df.columns[:-1])"
   ]
  },
  {
   "cell_type": "code",
   "execution_count": null,
   "id": "eec1c3bc",
   "metadata": {},
   "outputs": [],
   "source": [
    "dice_exp = exp.generate_counterfactuals(X_test[0:1], total_CFs=3,desired_class=\"opposite\")"
   ]
  },
  {
   "cell_type": "code",
   "execution_count": null,
   "id": "d29d36f3",
   "metadata": {},
   "outputs": [],
   "source": [
    "dice_exp.visualize_as_dataframe()"
   ]
  },
  {
   "cell_type": "code",
   "execution_count": null,
   "id": "dd417623",
   "metadata": {},
   "outputs": [],
   "source": [
    "dice_exp.visualize_as_dataframe(show_only_changes=True)"
   ]
  }
 ],
 "metadata": {
  "kernelspec": {
   "display_name": "Python 3 (ipykernel)",
   "language": "python",
   "name": "python3"
  },
  "language_info": {
   "codemirror_mode": {
    "name": "ipython",
    "version": 3
   },
   "file_extension": ".py",
   "mimetype": "text/x-python",
   "name": "python",
   "nbconvert_exporter": "python",
   "pygments_lexer": "ipython3",
   "version": "3.9.12"
  }
 },
 "nbformat": 4,
 "nbformat_minor": 5
}
